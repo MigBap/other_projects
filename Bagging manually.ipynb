{
 "cells": [
  {
   "cell_type": "markdown",
   "metadata": {},
   "source": [
    "### Bagging "
   ]
  },
  {
   "cell_type": "code",
   "execution_count": 1,
   "metadata": {},
   "outputs": [],
   "source": [
    "# doing bootstrapping manually\n",
    "\n",
    "from sklearn.tree import DecisionTreeClassifier\n",
    "\n",
    "model_for_bagging = DecisionTreeClassifier(random_state=1)\n",
    "\n",
    "# Takes 1 sample with replacement, build a decision tree and fits to the sample training set\n",
    "def build_model(X_train, y_train, random_state=None): \n",
    "    X_train_sample = X_train.sample(frac=1, replace=True, random_state=42)\n",
    "    y_train_sample = y_train.loc[X_train_sample.index]    \n",
    "    clf = model_for_bagging\n",
    "    clf.fit(X_train_sample, y_train_sample)    \n",
    "    return clf\n",
    "\n",
    "# Find majority element\n",
    "def majority_element(List):\n",
    "    counter = 0\n",
    "    num = List[0] \n",
    "      \n",
    "    for i in List: \n",
    "        curr_frequency = List.count(i) \n",
    "        if(curr_frequency > counter): \n",
    "            counter = curr_frequency \n",
    "            num = i \n",
    "    return num\n",
    "\n",
    "# predict \n",
    "def predict_voting(classifiers_list, X):\n",
    "    # Makes the individual predictions and combines them using \"Voting\"\n",
    "    i_predictions = []\n",
    "    [i_predictions.append(i.predict(X)) for i in classifiers_list]\n",
    "        \n",
    "    # \"Hard Voting\" (for classifiers - majority)\n",
    "    clf_voting = []    \n",
    "    for j in range(len(i_predictions[0])):\n",
    "        clf_voting.append(majority_element([i[j] for i in i_predictions]))\n",
    "    \n",
    "    return clf_voting\n"
   ]
  },
  {
   "cell_type": "code",
   "execution_count": 2,
   "metadata": {},
   "outputs": [
    {
     "name": "stdout",
     "output_type": "stream",
     "text": [
      "Couldn't find program: 'false'\n"
     ]
    }
   ],
   "source": [
    "%%script false\n",
    "\n",
    "# Build the list of individual models\n",
    "clf_list = []\n",
    "\n",
    "for i in range(21):\n",
    "    clf_list.append(build_model(X_train, y_train, random_state=i))\n",
    "\n",
    "# Predict on the test set\n",
    "pred = predict_voting(clf_list, X_test)\n",
    "\n",
    "# Print the F1 score\n",
    "print('F1 score: {:.3f}'.format(f1_score(y_test, pred)))"
   ]
  },
  {
   "cell_type": "code",
   "execution_count": null,
   "metadata": {},
   "outputs": [],
   "source": []
  },
  {
   "cell_type": "code",
   "execution_count": null,
   "metadata": {},
   "outputs": [],
   "source": []
  },
  {
   "cell_type": "code",
   "execution_count": null,
   "metadata": {},
   "outputs": [],
   "source": []
  }
 ],
 "metadata": {
  "kernelspec": {
   "display_name": "Python 3",
   "language": "python",
   "name": "python3"
  },
  "language_info": {
   "codemirror_mode": {
    "name": "ipython",
    "version": 3
   },
   "file_extension": ".py",
   "mimetype": "text/x-python",
   "name": "python",
   "nbconvert_exporter": "python",
   "pygments_lexer": "ipython3",
   "version": "3.7.3"
  }
 },
 "nbformat": 4,
 "nbformat_minor": 2
}
