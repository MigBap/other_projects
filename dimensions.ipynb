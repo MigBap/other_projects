{
 "cells": [
  {
   "cell_type": "markdown",
   "metadata": {},
   "source": [
    "# Dimensions"
   ]
  },
  {
   "cell_type": "markdown",
   "metadata": {},
   "source": [
    "<a id=\"contents\"></a>\n",
    "## Table of Contents"
   ]
  },
  {
   "cell_type": "markdown",
   "metadata": {},
   "source": [
    "1) [Dimensions vs Job descriptions exploration](#prep)\n",
    "\n",
    "2) [Feedback Dimensions - Miguel](#feedback)"
   ]
  },
  {
   "cell_type": "markdown",
   "metadata": {},
   "source": [
    "======================================================================================================================="
   ]
  },
  {
   "cell_type": "markdown",
   "metadata": {},
   "source": [
    "<a id=\"prep\"></a>\n",
    "# 1) Data exploration"
   ]
  },
  {
   "cell_type": "code",
   "execution_count": 1,
   "metadata": {},
   "outputs": [],
   "source": [
    "import time\n",
    "start_time = time.time()"
   ]
  },
  {
   "cell_type": "code",
   "execution_count": 2,
   "metadata": {},
   "outputs": [],
   "source": [
    "import pandas as pd\n",
    "import numpy as np\n",
    "import nest_asyncio\n",
    "nest_asyncio.apply()\n",
    "import re\n",
    "import spacy\n",
    "from spacy.matcher import PhraseMatcher\n",
    "from collections import Counter\n",
    "import itertools\n",
    "import nltk\n",
    "import seaborn as sns\n",
    "import matplotlib.pyplot as plt"
   ]
  },
  {
   "cell_type": "code",
   "execution_count": 3,
   "metadata": {},
   "outputs": [],
   "source": [
    "import os\n",
    "from pathlib import Path\n",
    "\n",
    "data_folder = str(Path(os.getcwd()).parents[0]) + '\\\\data\\\\'"
   ]
  },
  {
   "cell_type": "markdown",
   "metadata": {},
   "source": [
    "#### Jobs data"
   ]
  },
  {
   "cell_type": "code",
   "execution_count": 4,
   "metadata": {},
   "outputs": [],
   "source": [
    "%%capture\n",
    "%run \"entities_extraction_DATA.ipynb\""
   ]
  },
  {
   "cell_type": "code",
   "execution_count": 5,
   "metadata": {},
   "outputs": [
    {
     "data": {
      "text/plain": [
       "934"
      ]
     },
     "execution_count": 5,
     "metadata": {},
     "output_type": "execute_result"
    }
   ],
   "source": [
    "len(jobs_en.body_parsed)"
   ]
  },
  {
   "cell_type": "code",
   "execution_count": 6,
   "metadata": {},
   "outputs": [
    {
     "data": {
      "text/html": [
       "<div>\n",
       "<style scoped>\n",
       "    .dataframe tbody tr th:only-of-type {\n",
       "        vertical-align: middle;\n",
       "    }\n",
       "\n",
       "    .dataframe tbody tr th {\n",
       "        vertical-align: top;\n",
       "    }\n",
       "\n",
       "    .dataframe thead th {\n",
       "        text-align: right;\n",
       "    }\n",
       "</style>\n",
       "<table border=\"1\" class=\"dataframe\">\n",
       "  <thead>\n",
       "    <tr style=\"text-align: right;\">\n",
       "      <th></th>\n",
       "      <th>other_labels</th>\n",
       "      <th>chosen_labels</th>\n",
       "      <th>all_labels</th>\n",
       "    </tr>\n",
       "  </thead>\n",
       "  <tbody>\n",
       "    <tr>\n",
       "      <th>0</th>\n",
       "      <td>Activity-Level</td>\n",
       "      <td>Achievement-Striving</td>\n",
       "      <td>Achievement-Striving</td>\n",
       "    </tr>\n",
       "    <tr>\n",
       "      <th>1</th>\n",
       "      <td>ADHD</td>\n",
       "      <td>Adaptability</td>\n",
       "      <td>Adaptability</td>\n",
       "    </tr>\n",
       "    <tr>\n",
       "      <th>2</th>\n",
       "      <td>Adventurousness</td>\n",
       "      <td>Ambition/Drive</td>\n",
       "      <td>Ambition/Drive</td>\n",
       "    </tr>\n",
       "    <tr>\n",
       "      <th>3</th>\n",
       "      <td>Aesthetic Appreciation/Artistic Interests</td>\n",
       "      <td>Assertiveness</td>\n",
       "      <td>Assertiveness</td>\n",
       "    </tr>\n",
       "    <tr>\n",
       "      <th>4</th>\n",
       "      <td>Affective Lability</td>\n",
       "      <td>Competence</td>\n",
       "      <td>Competence</td>\n",
       "    </tr>\n",
       "  </tbody>\n",
       "</table>\n",
       "</div>"
      ],
      "text/plain": [
       "                                other_labels         chosen_labels  \\\n",
       "0                             Activity-Level  Achievement-Striving   \n",
       "1                                       ADHD          Adaptability   \n",
       "2                            Adventurousness        Ambition/Drive   \n",
       "3  Aesthetic Appreciation/Artistic Interests         Assertiveness   \n",
       "4                         Affective Lability            Competence   \n",
       "\n",
       "             all_labels  \n",
       "0  Achievement-Striving  \n",
       "1          Adaptability  \n",
       "2        Ambition/Drive  \n",
       "3         Assertiveness  \n",
       "4            Competence  "
      ]
     },
     "execution_count": 6,
     "metadata": {},
     "output_type": "execute_result"
    }
   ],
   "source": [
    "# dimensions\n",
    "dimensions_df = pd.read_excel(data_folder + 'dimensions.xlsx')\n",
    "dimensions_df.head()"
   ]
  },
  {
   "cell_type": "markdown",
   "metadata": {},
   "source": [
    "#### Data wrangling"
   ]
  },
  {
   "cell_type": "code",
   "execution_count": 7,
   "metadata": {},
   "outputs": [
    {
     "data": {
      "text/plain": [
       "[['Achievement-Striving'],\n",
       " ['Adaptability'],\n",
       " ['Ambition', 'Drive'],\n",
       " ['Assertiveness'],\n",
       " ['Competence'],\n",
       " ['Cooperation'],\n",
       " ['Creativity', 'Originality'],\n",
       " ['Diligence'],\n",
       " ['Efficiency'],\n",
       " ['Empathy']]"
      ]
     },
     "execution_count": 7,
     "metadata": {},
     "output_type": "execute_result"
    }
   ],
   "source": [
    "import itertools\n",
    "\n",
    "# split if /\n",
    "dimensions_list = [i.split('/') for i in list(dimensions_df['all_labels'])]\n",
    "dimensions_list[:10]"
   ]
  },
  {
   "cell_type": "code",
   "execution_count": 8,
   "metadata": {},
   "outputs": [
    {
     "name": "stdout",
     "output_type": "stream",
     "text": [
      "(245, 2)\n"
     ]
    },
    {
     "data": {
      "text/html": [
       "<div>\n",
       "<style scoped>\n",
       "    .dataframe tbody tr th:only-of-type {\n",
       "        vertical-align: middle;\n",
       "    }\n",
       "\n",
       "    .dataframe tbody tr th {\n",
       "        vertical-align: top;\n",
       "    }\n",
       "\n",
       "    .dataframe thead th {\n",
       "        text-align: right;\n",
       "    }\n",
       "</style>\n",
       "<table border=\"1\" class=\"dataframe\">\n",
       "  <thead>\n",
       "    <tr style=\"text-align: right;\">\n",
       "      <th></th>\n",
       "      <th>dimension</th>\n",
       "      <th>equivalents</th>\n",
       "    </tr>\n",
       "  </thead>\n",
       "  <tbody>\n",
       "    <tr>\n",
       "      <th>0</th>\n",
       "      <td>Achievement-Striving</td>\n",
       "      <td>[achievement-striving]</td>\n",
       "    </tr>\n",
       "    <tr>\n",
       "      <th>1</th>\n",
       "      <td>Adaptability</td>\n",
       "      <td>[adaptability]</td>\n",
       "    </tr>\n",
       "    <tr>\n",
       "      <th>2</th>\n",
       "      <td>Ambition/Drive</td>\n",
       "      <td>[ambition, drive]</td>\n",
       "    </tr>\n",
       "    <tr>\n",
       "      <th>3</th>\n",
       "      <td>Assertiveness</td>\n",
       "      <td>[assertiveness]</td>\n",
       "    </tr>\n",
       "    <tr>\n",
       "      <th>4</th>\n",
       "      <td>Competence</td>\n",
       "      <td>[competence]</td>\n",
       "    </tr>\n",
       "  </tbody>\n",
       "</table>\n",
       "</div>"
      ],
      "text/plain": [
       "              dimension             equivalents\n",
       "0  Achievement-Striving  [achievement-striving]\n",
       "1          Adaptability          [adaptability]\n",
       "2        Ambition/Drive       [ambition, drive]\n",
       "3         Assertiveness         [assertiveness]\n",
       "4            Competence            [competence]"
      ]
     },
     "execution_count": 8,
     "metadata": {},
     "output_type": "execute_result"
    }
   ],
   "source": [
    "df = pd.DataFrame(list(zip(list(dimensions_df['all_labels']), dimensions_list)), columns=['dimension', 'equivalents'])\n",
    "\n",
    "# make some replacements\n",
    "new_equivalents = []\n",
    "for i in df['equivalents']:\n",
    "    if len(i) == 1:\n",
    "        new_equivalents.append([i[0].replace('Interest in ', '').replace('Capacity for ', '').replace(\n",
    "                                            'Capacity for ', '').replace('Locus of Control,', '').replace(\n",
    "                                            'Love for ', '').lower()])\n",
    "    else:\n",
    "        new_equivalents.append([j.lower() for j in i])\n",
    "\n",
    "# replace the series\n",
    "df['equivalents'] = new_equivalents.copy()\n",
    "print(df.shape)\n",
    "df.head()"
   ]
  },
  {
   "cell_type": "code",
   "execution_count": 9,
   "metadata": {},
   "outputs": [
    {
     "name": "stdout",
     "output_type": "stream",
     "text": [
      "(245, 2)\n"
     ]
    },
    {
     "data": {
      "text/html": [
       "<div>\n",
       "<style scoped>\n",
       "    .dataframe tbody tr th:only-of-type {\n",
       "        vertical-align: middle;\n",
       "    }\n",
       "\n",
       "    .dataframe tbody tr th {\n",
       "        vertical-align: top;\n",
       "    }\n",
       "\n",
       "    .dataframe thead th {\n",
       "        text-align: right;\n",
       "    }\n",
       "</style>\n",
       "<table border=\"1\" class=\"dataframe\">\n",
       "  <thead>\n",
       "    <tr style=\"text-align: right;\">\n",
       "      <th></th>\n",
       "      <th>dimension</th>\n",
       "      <th>equivalents</th>\n",
       "    </tr>\n",
       "  </thead>\n",
       "  <tbody>\n",
       "    <tr>\n",
       "      <th>0</th>\n",
       "      <td>Achievement-Striving</td>\n",
       "      <td>[achievement-striving]</td>\n",
       "    </tr>\n",
       "    <tr>\n",
       "      <th>1</th>\n",
       "      <td>Adaptability</td>\n",
       "      <td>[adaptability, adapt]</td>\n",
       "    </tr>\n",
       "    <tr>\n",
       "      <th>2</th>\n",
       "      <td>Ambition/Drive</td>\n",
       "      <td>[ambition, ambit, drive, driv]</td>\n",
       "    </tr>\n",
       "    <tr>\n",
       "      <th>3</th>\n",
       "      <td>Assertiveness</td>\n",
       "      <td>[assertiveness, assert]</td>\n",
       "    </tr>\n",
       "    <tr>\n",
       "      <th>4</th>\n",
       "      <td>Competence</td>\n",
       "      <td>[competence, compet]</td>\n",
       "    </tr>\n",
       "    <tr>\n",
       "      <th>5</th>\n",
       "      <td>Cooperation</td>\n",
       "      <td>[cooperation, coop]</td>\n",
       "    </tr>\n",
       "    <tr>\n",
       "      <th>6</th>\n",
       "      <td>Creativity/Originality</td>\n",
       "      <td>[creativity, cre, originality, origin]</td>\n",
       "    </tr>\n",
       "    <tr>\n",
       "      <th>7</th>\n",
       "      <td>Diligence</td>\n",
       "      <td>[diligence, dilig]</td>\n",
       "    </tr>\n",
       "    <tr>\n",
       "      <th>8</th>\n",
       "      <td>Efficiency</td>\n",
       "      <td>[efficiency, efficy]</td>\n",
       "    </tr>\n",
       "    <tr>\n",
       "      <th>9</th>\n",
       "      <td>Empathy</td>\n",
       "      <td>[empathy]</td>\n",
       "    </tr>\n",
       "  </tbody>\n",
       "</table>\n",
       "</div>"
      ],
      "text/plain": [
       "                dimension                             equivalents\n",
       "0    Achievement-Striving                  [achievement-striving]\n",
       "1            Adaptability                   [adaptability, adapt]\n",
       "2          Ambition/Drive          [ambition, ambit, drive, driv]\n",
       "3           Assertiveness                 [assertiveness, assert]\n",
       "4              Competence                    [competence, compet]\n",
       "5             Cooperation                     [cooperation, coop]\n",
       "6  Creativity/Originality  [creativity, cre, originality, origin]\n",
       "7               Diligence                      [diligence, dilig]\n",
       "8              Efficiency                    [efficiency, efficy]\n",
       "9                 Empathy                               [empathy]"
      ]
     },
     "execution_count": 9,
     "metadata": {},
     "output_type": "execute_result"
    }
   ],
   "source": [
    "# add stemming (brute force better in this case than lemmatization)\n",
    "\n",
    "from nltk.stem import LancasterStemmer\n",
    "lancaster = LancasterStemmer()\n",
    "\n",
    "# stopwords english\n",
    "from nltk.corpus import stopwords\n",
    "stopwords_en = stopwords.words('english')\n",
    "\n",
    "new_equivalents_expanded = []\n",
    "for i in df['equivalents']:\n",
    "    all_js = []\n",
    "    for j in i:\n",
    "        if lancaster.stem(j) != j.lower() and lancaster.stem(j) not in stopwords_en:\n",
    "            all_js.append([j.lower()] + [lancaster.stem(j.lower())])\n",
    "        else:\n",
    "            all_js.append([j.lower()])\n",
    "    \n",
    "    # append all\n",
    "    new_equivalents_expanded.append(list(itertools.chain.from_iterable(all_js)))\n",
    "\n",
    "# replace the series\n",
    "df['equivalents'] = new_equivalents_expanded.copy()\n",
    "print(df.shape)\n",
    "df.head(10)"
   ]
  },
  {
   "cell_type": "code",
   "execution_count": 10,
   "metadata": {},
   "outputs": [
    {
     "data": {
      "text/plain": [
       "['achievement-striving',\n",
       " 'adaptability',\n",
       " 'adapt',\n",
       " 'ambition',\n",
       " 'ambit',\n",
       " 'drive',\n",
       " 'driv',\n",
       " 'assertiveness',\n",
       " 'assert',\n",
       " 'competence']"
      ]
     },
     "execution_count": 10,
     "metadata": {},
     "output_type": "execute_result"
    }
   ],
   "source": [
    "# all equivalents\n",
    "all_equivalents = list(itertools.chain.from_iterable(list(df['equivalents'])))\n",
    "all_equivalents[:10]"
   ]
  },
  {
   "cell_type": "code",
   "execution_count": 11,
   "metadata": {},
   "outputs": [
    {
     "data": {
      "text/plain": [
       "['Job', 'description', ',', 'low-code', 'style', ':', 'As', 'the', '#', '1']"
      ]
     },
     "execution_count": 11,
     "metadata": {},
     "output_type": "execute_result"
    }
   ],
   "source": [
    "# all words\n",
    "all_jobs_words = nltk.word_tokenize(' '.join(jobs_en.body_parsed).replace('\\n', ''))\n",
    "all_jobs_words[:10]"
   ]
  },
  {
   "cell_type": "code",
   "execution_count": 12,
   "metadata": {},
   "outputs": [
    {
     "data": {
      "text/plain": [
       "['achievement-striving',\n",
       " 'adaptability',\n",
       " 'ambition',\n",
       " 'drive',\n",
       " 'assertiveness',\n",
       " 'competence',\n",
       " 'cooperation',\n",
       " 'creativity',\n",
       " 'originality',\n",
       " 'diligence']"
      ]
     },
     "execution_count": 12,
     "metadata": {},
     "output_type": "execute_result"
    }
   ],
   "source": [
    "# get all original dimensions\n",
    "dimensions_list_lower = [i.lower() for i in list(itertools.chain.from_iterable(new_equivalents))]\n",
    "dimensions_list_lower[:10]"
   ]
  },
  {
   "cell_type": "code",
   "execution_count": 13,
   "metadata": {},
   "outputs": [
    {
     "data": {
      "text/plain": [
       "['Job', 'description', ',', 'low-code', 'style', ':', 'As', 'the', '#', '1']"
      ]
     },
     "execution_count": 13,
     "metadata": {},
     "output_type": "execute_result"
    }
   ],
   "source": [
    "# all words stemmed, with the exception of the original dimensions, in order to avoid duplication\n",
    "all_jobs_stemmed = [lancaster.stem(i.lower()) for i in all_jobs_words if i.lower() not in dimensions_list_lower]\n",
    "\n",
    "# add the stems\n",
    "all_jobs_words_extended = all_jobs_words + all_jobs_stemmed\n",
    "all_jobs_words_extended[:10]"
   ]
  },
  {
   "cell_type": "code",
   "execution_count": 14,
   "metadata": {},
   "outputs": [
    {
     "data": {
      "text/plain": [
       "['complex',\n",
       " 'complex',\n",
       " 'curiosity',\n",
       " 'drive',\n",
       " 'complex',\n",
       " 'security',\n",
       " 'chance',\n",
       " 'drink',\n",
       " 'happy',\n",
       " 'industry']"
      ]
     },
     "execution_count": 14,
     "metadata": {},
     "output_type": "execute_result"
    }
   ],
   "source": [
    "# words that matter (not counting 2-word all_equivalents)\n",
    "all_words = [i.lower() for i in all_jobs_words_extended if i.lower() in all_equivalents]\n",
    "all_words[:10]"
   ]
  },
  {
   "cell_type": "markdown",
   "metadata": {},
   "source": [
    "#### Two-words cases"
   ]
  },
  {
   "cell_type": "code",
   "execution_count": 15,
   "metadata": {},
   "outputs": [],
   "source": [
    "# English nlp model\n",
    "nlp_en = spacy.load('en_core_web_lg')"
   ]
  },
  {
   "cell_type": "code",
   "execution_count": 16,
   "metadata": {},
   "outputs": [
    {
     "name": "stdout",
     "output_type": "stream",
     "text": [
      "['achievement-striving', 'problem-solving', 'risk-taking', 'self-efficacy', 'activity-level', 'aesthetic appreciation', 'artistic interests', 'affective lability', 'appearance-consciousness', 'attention to emotions', 'behavioral inhibition', 'activation system', 'cognitive problems', 'cognitive-failures', 'need for approval', 'mechanical interests', 'cool-headedness', 'emotional detachment', 'emotional stability', 'emotion-based decision-making', 'excitement-seeking', 'fantasy proneness', 'good nature', 'greed avoidance', 'harm-avoidance', 'health anxiety', 'hostile aggression', 'hypomanic exhibitionism', 'hypomanic mood intensity', 'impression-management', 'impulse-control', 'intellectual openness', 'intellectual-breadth', 'intellectual-complexity', 'game-playing', 'home-making', 'outdoor activities', 'political activism', 'self-improvement', 'social media', 'watching television', 'private self-consciousness', 'irrational beliefs', 'open-mindedness', 'language mastery', 'locus of control', 'love of learning', 'love of reading', 'need for cognition', 'need for order and cleanliness', 'negative expressivity', 'negative-valence', 'negative-valenc', 'non-perseverance', 'non-planfulness', 'norm violation', 'obsessive-compulsive symptoms', 'openness to experience', 'physical attractiveness', 'positive expressivity', 'public self-consciousness', 'relationship insecurity', 'responsive distress', 'responsive joy', 'risk-avoidance', 'romantic disinterest', 'science interest', 'self-acceptance', 'self-confidence', 'self-consciousness', 'self-control', 'self-regulation', 'self-deception', 'self-discipline', 'self-disclosure', 'self-esteem', 'self-harm', 'self-monitoring', 'self-sufficiency', 'social withdrawal', 'social withdraw', 'emotional intelligence', 'social-confidence', 'social-discomfort', 'unlikely virtues', 'unusual experiences', 'variety-seeking', 'achievement striving', 'problem solving', 'risk taking', 'self efficacy', 'activity level', 'appearance consciousness', 'cognitive failures', 'cool headedness', 'emotion based decision making', 'excitement seeking', 'harm avoidance', 'impression management', 'impulse control', 'intellectual breadth', 'intellectual complexity', 'game playing', 'home making', 'self improvement', 'private self consciousness', 'open mindedness', 'negative valence', 'negative valenc', 'non perseverance', 'non planfulness', 'obsessive compulsive symptoms', 'public self consciousness', 'risk avoidance', 'self acceptance', 'self confidence', 'self consciousness', 'self control', 'self regulation', 'self deception', 'self discipline', 'self disclosure', 'self esteem', 'self harm', 'self monitoring', 'self sufficiency', 'social confidence', 'social discomfort', 'variety seeking']\n",
      "\n",
      "\n",
      "['achievement-striving', 'problem-solving', 'risk-taking', 'self-efficacy', 'activity-level', 'appearance-consciousness', 'cognitive-failures', 'cool-headedness', 'emotion-based decision-making', 'excitement-seeking', 'harm-avoidance', 'impression-management', 'impulse-control', 'intellectual-breadth', 'intellectual-complexity', 'game-playing', 'home-making', 'self-improvement', 'private self-consciousness', 'open-mindedness', 'negative-valence', 'negative-valenc', 'non-perseverance', 'non-planfulness', 'obsessive-compulsive symptoms', 'public self-consciousness', 'risk-avoidance', 'self-acceptance', 'self-confidence', 'self-consciousness', 'self-control', 'self-regulation', 'self-deception', 'self-discipline', 'self-disclosure', 'self-esteem', 'self-harm', 'self-monitoring', 'self-sufficiency', 'social-confidence', 'social-discomfort', 'variety-seeking']\n"
     ]
    }
   ],
   "source": [
    "# two-word dimensions\n",
    "two_words = []\n",
    "for i in all_equivalents:\n",
    "    if len(nlp_en(i)) > 1:\n",
    "        two_words.append(i)\n",
    "        \n",
    "# muitas têm hífen no meio, por isso\n",
    "hifen_words = []\n",
    "for i in two_words:\n",
    "    if '-' in i:\n",
    "        hifen_words.append(i)\n",
    "        two_words += [' '.join(i.split('-'))]\n",
    "        \n",
    "print(two_words)\n",
    "print(\"\\n\")\n",
    "print(hifen_words)"
   ]
  },
  {
   "cell_type": "code",
   "execution_count": 17,
   "metadata": {},
   "outputs": [],
   "source": [
    "# the same but without hifen\n",
    "hifen_without_hifen_words = []\n",
    "for i in hifen_words:\n",
    "    hifen_without_hifen_words.append(' '.join(i.split('-')))"
   ]
  },
  {
   "cell_type": "code",
   "execution_count": 18,
   "metadata": {},
   "outputs": [
    {
     "name": "stdout",
     "output_type": "stream",
     "text": [
      "Wall time: 1min 51s\n"
     ]
    }
   ],
   "source": [
    "%%time\n",
    "\n",
    "# have to split it, because \"Text of length 2235737 exceeds maximum of 1000000.\"\n",
    "doc1 = nlp_en(' '.join(jobs_en.body_parsed[:300]).replace('\\n', ''))\n",
    "doc2 = nlp_en(' '.join(jobs_en.body_parsed[300:600]).replace('\\n', ''))\n",
    "doc3 = nlp_en(' '.join(jobs_en.body_parsed[600:]).replace('\\n', ''))"
   ]
  },
  {
   "cell_type": "code",
   "execution_count": 19,
   "metadata": {},
   "outputs": [
    {
     "name": "stdout",
     "output_type": "stream",
     "text": [
      "['achievement striving', 'problem solving', 'risk taking', 'self efficacy', 'activity level', 'appearance consciousness', 'cognitive failures', 'cool headedness', 'emotion based decision making', 'excitement seeking', 'harm avoidance', 'impression management', 'impulse control', 'intellectual breadth', 'intellectual complexity', 'game playing', 'home making', 'self improvement', 'private self consciousness', 'open mindedness', 'negative valence', 'negative valenc', 'non perseverance', 'non planfulness', 'obsessive compulsive symptoms', 'public self consciousness', 'risk avoidance', 'self acceptance', 'self confidence', 'self consciousness', 'self control', 'self regulation', 'self deception', 'self discipline', 'self disclosure', 'self esteem', 'self harm', 'self monitoring', 'self sufficiency', 'social confidence']\n"
     ]
    }
   ],
   "source": [
    "print(hifen_without_hifen_words[:40])"
   ]
  },
  {
   "cell_type": "code",
   "execution_count": 20,
   "metadata": {},
   "outputs": [
    {
     "name": "stdout",
     "output_type": "stream",
     "text": [
      "['problem solving', 'problem solving', 'problem solving', 'problem solving', 'problem solving', 'social media', 'social media', 'problem solving', 'problem solving', 'problem solving', 'problem solving', 'social media', 'problem solving', 'social media', 'problem solving', 'problem solving', 'problem solving', 'problem solving', 'problem solving', 'problem solving', 'social media', 'social media', 'emotional intelligence', 'social media', 'social media', 'social media', 'social media', 'social media', 'social media', 'social media', 'social media', 'problem solving', 'social media', 'problem solving', 'problem solving', 'problem solving', 'problem solving', 'social media', 'problem solving', 'social media', 'problem solving', 'emotional intelligence', 'problem solving', 'problem solving', 'problem solving', 'problem solving', 'problem solving', 'problem solving', 'social media', 'social media', 'social media', 'problem solving', 'problem solving', 'problem solving', 'problem solving', 'problem solving', 'problem solving', 'social media', 'social media', 'social media', 'social media', 'social media', 'social media', 'problem solving', 'problem solving', 'problem solving', 'social media', 'social media', 'problem solving', 'social media', 'social media', 'social media', 'problem solving', 'social media', 'social media', 'social media', 'social media', 'social media', 'social media', 'social media', 'social media', 'social media', 'social media', 'social media', 'social media', 'social media', 'social media', 'problem solving', 'problem solving', 'social media', 'emotional intelligence', 'social media', 'social media', 'problem solving', 'problem solving', 'social media', 'problem solving', 'problem solving', 'social media', 'problem solving', 'social media', 'social media', 'problem solving', 'social media', 'social media', 'social media', 'social media', 'problem solving', 'problem solving', 'problem solving', 'problem solving', 'problem solving', 'problem solving', 'emotional intelligence', 'problem solving', 'problem solving', 'problem solving', 'problem solving', 'problem solving', 'social media', 'problem solving', 'problem solving', 'problem solving', 'problem solving', 'social media', 'social media', 'problem solving', 'social media']\n",
      "Wall time: 244 ms\n"
     ]
    }
   ],
   "source": [
    "%%time\n",
    "\n",
    "# Phrase Matching\n",
    "from spacy.matcher import PhraseMatcher\n",
    "\n",
    "# Initialize the Matcher and add the patterns\n",
    "matcher = PhraseMatcher(nlp_en.vocab)\n",
    "\n",
    "# Create pattern Doc objects and add them to the matcher\n",
    "# This is the faster version of: [nlp_en(country) for country in COUNTRIES]\n",
    "patterns = list(nlp_en.pipe(two_words))\n",
    "matcher.add('dimension', None, *patterns)\n",
    "\n",
    "# Call the matcher on the test document and add to list\n",
    "two_words_occurrences = []\n",
    "for doc in [doc1, doc2, doc3]:\n",
    "    matches = matcher(doc)\n",
    "    initial_list = [doc[start:end].text for match_id, start, end in matches]\n",
    "    for i in initial_list:\n",
    "        if i in hifen_without_hifen_words or i not in hifen_words:\n",
    "            two_words_occurrences.append(i)\n",
    "\n",
    "# show list\n",
    "print(two_words_occurrences)"
   ]
  },
  {
   "cell_type": "markdown",
   "metadata": {},
   "source": [
    "#### Analysis"
   ]
  },
  {
   "cell_type": "code",
   "execution_count": 21,
   "metadata": {},
   "outputs": [
    {
     "name": "stdout",
     "output_type": "stream",
     "text": [
      "(245, 3)\n"
     ]
    },
    {
     "data": {
      "text/html": [
       "<div>\n",
       "<style scoped>\n",
       "    .dataframe tbody tr th:only-of-type {\n",
       "        vertical-align: middle;\n",
       "    }\n",
       "\n",
       "    .dataframe tbody tr th {\n",
       "        vertical-align: top;\n",
       "    }\n",
       "\n",
       "    .dataframe thead th {\n",
       "        text-align: right;\n",
       "    }\n",
       "</style>\n",
       "<table border=\"1\" class=\"dataframe\">\n",
       "  <thead>\n",
       "    <tr style=\"text-align: right;\">\n",
       "      <th></th>\n",
       "      <th>dimension</th>\n",
       "      <th>equivalents</th>\n",
       "      <th>count_occurrences</th>\n",
       "    </tr>\n",
       "  </thead>\n",
       "  <tbody>\n",
       "    <tr>\n",
       "      <th>0</th>\n",
       "      <td>Achievement-Striving</td>\n",
       "      <td>[achievement-striving]</td>\n",
       "      <td>0</td>\n",
       "    </tr>\n",
       "    <tr>\n",
       "      <th>1</th>\n",
       "      <td>Adaptability</td>\n",
       "      <td>[adaptability, adapt]</td>\n",
       "      <td>141</td>\n",
       "    </tr>\n",
       "    <tr>\n",
       "      <th>2</th>\n",
       "      <td>Ambition/Drive</td>\n",
       "      <td>[ambition, ambit, drive, driv]</td>\n",
       "      <td>482</td>\n",
       "    </tr>\n",
       "    <tr>\n",
       "      <th>3</th>\n",
       "      <td>Assertiveness</td>\n",
       "      <td>[assertiveness, assert]</td>\n",
       "      <td>4</td>\n",
       "    </tr>\n",
       "    <tr>\n",
       "      <th>4</th>\n",
       "      <td>Competence</td>\n",
       "      <td>[competence, compet]</td>\n",
       "      <td>115</td>\n",
       "    </tr>\n",
       "    <tr>\n",
       "      <th>5</th>\n",
       "      <td>Cooperation</td>\n",
       "      <td>[cooperation, coop]</td>\n",
       "      <td>28</td>\n",
       "    </tr>\n",
       "    <tr>\n",
       "      <th>6</th>\n",
       "      <td>Creativity/Originality</td>\n",
       "      <td>[creativity, cre, originality, origin]</td>\n",
       "      <td>863</td>\n",
       "    </tr>\n",
       "    <tr>\n",
       "      <th>7</th>\n",
       "      <td>Diligence</td>\n",
       "      <td>[diligence, dilig]</td>\n",
       "      <td>13</td>\n",
       "    </tr>\n",
       "    <tr>\n",
       "      <th>8</th>\n",
       "      <td>Efficiency</td>\n",
       "      <td>[efficiency, efficy]</td>\n",
       "      <td>161</td>\n",
       "    </tr>\n",
       "    <tr>\n",
       "      <th>9</th>\n",
       "      <td>Empathy</td>\n",
       "      <td>[empathy]</td>\n",
       "      <td>19</td>\n",
       "    </tr>\n",
       "  </tbody>\n",
       "</table>\n",
       "</div>"
      ],
      "text/plain": [
       "                dimension                             equivalents  \\\n",
       "0    Achievement-Striving                  [achievement-striving]   \n",
       "1            Adaptability                   [adaptability, adapt]   \n",
       "2          Ambition/Drive          [ambition, ambit, drive, driv]   \n",
       "3           Assertiveness                 [assertiveness, assert]   \n",
       "4              Competence                    [competence, compet]   \n",
       "5             Cooperation                     [cooperation, coop]   \n",
       "6  Creativity/Originality  [creativity, cre, originality, origin]   \n",
       "7               Diligence                      [diligence, dilig]   \n",
       "8              Efficiency                    [efficiency, efficy]   \n",
       "9                 Empathy                               [empathy]   \n",
       "\n",
       "   count_occurrences  \n",
       "0                  0  \n",
       "1                141  \n",
       "2                482  \n",
       "3                  4  \n",
       "4                115  \n",
       "5                 28  \n",
       "6                863  \n",
       "7                 13  \n",
       "8                161  \n",
       "9                 19  "
      ]
     },
     "execution_count": 21,
     "metadata": {},
     "output_type": "execute_result"
    }
   ],
   "source": [
    "# count occurrences\n",
    "\n",
    "count_occurrences = []\n",
    "for i in df['equivalents']:\n",
    "    count_here = 0\n",
    "    for j in i:\n",
    "        count_here += Counter(all_words)[j]\n",
    "        count_here += Counter(two_words_occurrences)[' '.join(j.split('-'))]\n",
    "    count_occurrences.append(count_here)\n",
    "\n",
    "# add counts\n",
    "df['count_occurrences'] = count_occurrences.copy()\n",
    "\n",
    "print(df.shape)\n",
    "df.head(10)"
   ]
  },
  {
   "cell_type": "code",
   "execution_count": 22,
   "metadata": {},
   "outputs": [
    {
     "name": "stdout",
     "output_type": "stream",
     "text": [
      "6\n",
      "135\n"
     ]
    }
   ],
   "source": [
    "# check\n",
    "print(Counter(all_words)['adaptability'])\n",
    "print(Counter(all_words)['adapt'])"
   ]
  },
  {
   "cell_type": "code",
   "execution_count": 23,
   "metadata": {},
   "outputs": [
    {
     "data": {
      "text/html": [
       "<div>\n",
       "<style scoped>\n",
       "    .dataframe tbody tr th:only-of-type {\n",
       "        vertical-align: middle;\n",
       "    }\n",
       "\n",
       "    .dataframe tbody tr th {\n",
       "        vertical-align: top;\n",
       "    }\n",
       "\n",
       "    .dataframe thead th {\n",
       "        text-align: right;\n",
       "    }\n",
       "</style>\n",
       "<table border=\"1\" class=\"dataframe\">\n",
       "  <thead>\n",
       "    <tr style=\"text-align: right;\">\n",
       "      <th></th>\n",
       "      <th>dimension</th>\n",
       "      <th>equivalents</th>\n",
       "      <th>count_occurrences</th>\n",
       "    </tr>\n",
       "  </thead>\n",
       "  <tbody>\n",
       "    <tr>\n",
       "      <th>14</th>\n",
       "      <td>Leadership</td>\n",
       "      <td>[leadership, lead]</td>\n",
       "      <td>1027</td>\n",
       "    </tr>\n",
       "    <tr>\n",
       "      <th>6</th>\n",
       "      <td>Creativity/Originality</td>\n",
       "      <td>[creativity, cre, originality, origin]</td>\n",
       "      <td>863</td>\n",
       "    </tr>\n",
       "    <tr>\n",
       "      <th>192</th>\n",
       "      <td>Responsibility</td>\n",
       "      <td>[responsibility, respons]</td>\n",
       "      <td>853</td>\n",
       "    </tr>\n",
       "    <tr>\n",
       "      <th>148</th>\n",
       "      <td>Locus of Control,Internal</td>\n",
       "      <td>[internal, intern]</td>\n",
       "      <td>742</td>\n",
       "    </tr>\n",
       "    <tr>\n",
       "      <th>114</th>\n",
       "      <td>Interest in Environmentalism</td>\n",
       "      <td>[environmentalism, environ]</td>\n",
       "      <td>667</td>\n",
       "    </tr>\n",
       "    <tr>\n",
       "      <th>219</th>\n",
       "      <td>Social/Personal/Emotional Intelligence</td>\n",
       "      <td>[social, soc, personal, person, emotional inte...</td>\n",
       "      <td>612</td>\n",
       "    </tr>\n",
       "    <tr>\n",
       "      <th>13</th>\n",
       "      <td>Industriousness/Perseverance/Persistence</td>\n",
       "      <td>[industriousness, industry, perseverance, pers...</td>\n",
       "      <td>580</td>\n",
       "    </tr>\n",
       "    <tr>\n",
       "      <th>174</th>\n",
       "      <td>Planfulness</td>\n",
       "      <td>[planfulness, plan]</td>\n",
       "      <td>577</td>\n",
       "    </tr>\n",
       "    <tr>\n",
       "      <th>235</th>\n",
       "      <td>Understanding</td>\n",
       "      <td>[understanding, understand]</td>\n",
       "      <td>575</td>\n",
       "    </tr>\n",
       "    <tr>\n",
       "      <th>158</th>\n",
       "      <td>Morality</td>\n",
       "      <td>[morality, mor]</td>\n",
       "      <td>520</td>\n",
       "    </tr>\n",
       "    <tr>\n",
       "      <th>15</th>\n",
       "      <td>Organization</td>\n",
       "      <td>[organization, org]</td>\n",
       "      <td>516</td>\n",
       "    </tr>\n",
       "    <tr>\n",
       "      <th>2</th>\n",
       "      <td>Ambition/Drive</td>\n",
       "      <td>[ambition, ambit, drive, driv]</td>\n",
       "      <td>482</td>\n",
       "    </tr>\n",
       "    <tr>\n",
       "      <th>12</th>\n",
       "      <td>Honesty/Integrity/Authenticity</td>\n",
       "      <td>[honesty, integrity, integr, authenticity, auth]</td>\n",
       "      <td>447</td>\n",
       "    </tr>\n",
       "    <tr>\n",
       "      <th>48</th>\n",
       "      <td>Complexity</td>\n",
       "      <td>[complexity, complex]</td>\n",
       "      <td>369</td>\n",
       "    </tr>\n",
       "    <tr>\n",
       "      <th>112</th>\n",
       "      <td>Interest in Computing</td>\n",
       "      <td>[computing, comput]</td>\n",
       "      <td>324</td>\n",
       "    </tr>\n",
       "    <tr>\n",
       "      <th>25</th>\n",
       "      <td>Adventurousness</td>\n",
       "      <td>[adventurousness, adv]</td>\n",
       "      <td>310</td>\n",
       "    </tr>\n",
       "    <tr>\n",
       "      <th>203</th>\n",
       "      <td>Security</td>\n",
       "      <td>[security, sec]</td>\n",
       "      <td>284</td>\n",
       "    </tr>\n",
       "    <tr>\n",
       "      <th>132</th>\n",
       "      <td>Interest in Travel</td>\n",
       "      <td>[travel]</td>\n",
       "      <td>284</td>\n",
       "    </tr>\n",
       "    <tr>\n",
       "      <th>93</th>\n",
       "      <td>Humor/Playfulness</td>\n",
       "      <td>[humor, hum, playfulness, play]</td>\n",
       "      <td>266</td>\n",
       "    </tr>\n",
       "    <tr>\n",
       "      <th>175</th>\n",
       "      <td>Pleasantness</td>\n",
       "      <td>[pleasantness, pleas]</td>\n",
       "      <td>256</td>\n",
       "    </tr>\n",
       "  </tbody>\n",
       "</table>\n",
       "</div>"
      ],
      "text/plain": [
       "                                    dimension  \\\n",
       "14                                 Leadership   \n",
       "6                      Creativity/Originality   \n",
       "192                            Responsibility   \n",
       "148                 Locus of Control,Internal   \n",
       "114              Interest in Environmentalism   \n",
       "219    Social/Personal/Emotional Intelligence   \n",
       "13   Industriousness/Perseverance/Persistence   \n",
       "174                               Planfulness   \n",
       "235                             Understanding   \n",
       "158                                  Morality   \n",
       "15                               Organization   \n",
       "2                              Ambition/Drive   \n",
       "12             Honesty/Integrity/Authenticity   \n",
       "48                                 Complexity   \n",
       "112                     Interest in Computing   \n",
       "25                            Adventurousness   \n",
       "203                                  Security   \n",
       "132                        Interest in Travel   \n",
       "93                          Humor/Playfulness   \n",
       "175                              Pleasantness   \n",
       "\n",
       "                                           equivalents  count_occurrences  \n",
       "14                                  [leadership, lead]               1027  \n",
       "6               [creativity, cre, originality, origin]                863  \n",
       "192                          [responsibility, respons]                853  \n",
       "148                                 [internal, intern]                742  \n",
       "114                        [environmentalism, environ]                667  \n",
       "219  [social, soc, personal, person, emotional inte...                612  \n",
       "13   [industriousness, industry, perseverance, pers...                580  \n",
       "174                                [planfulness, plan]                577  \n",
       "235                        [understanding, understand]                575  \n",
       "158                                    [morality, mor]                520  \n",
       "15                                 [organization, org]                516  \n",
       "2                       [ambition, ambit, drive, driv]                482  \n",
       "12    [honesty, integrity, integr, authenticity, auth]                447  \n",
       "48                               [complexity, complex]                369  \n",
       "112                                [computing, comput]                324  \n",
       "25                              [adventurousness, adv]                310  \n",
       "203                                    [security, sec]                284  \n",
       "132                                           [travel]                284  \n",
       "93                     [humor, hum, playfulness, play]                266  \n",
       "175                              [pleasantness, pleas]                256  "
      ]
     },
     "execution_count": 23,
     "metadata": {},
     "output_type": "execute_result"
    }
   ],
   "source": [
    "df.sort_values('count_occurrences', ascending=False)[:20]"
   ]
  },
  {
   "cell_type": "code",
   "execution_count": 24,
   "metadata": {},
   "outputs": [
    {
     "data": {
      "image/png": "[encoded data removed]",
      "text/plain": [
       "<Figure size 432x288 with 1 Axes>"
      ]
     },
     "metadata": {},
     "output_type": "display_data"
    }
   ],
   "source": [
    "# plot\n",
    "plt.style.use('fivethirtyeight')\n",
    "plot_df = df.sort_values('count_occurrences', ascending=False)[:20]\n",
    "\n",
    "ax = sns.barplot(x='count_occurrences', y='dimension', data=plot_df, color=\"darkblue\")\n",
    "ax.set_xlabel('count_occurrences')\n",
    "plt.title('Nº of occurences of the dimension-words in EN job descriptions dataset (w/ stemming)')\n",
    "plt.subplots_adjust(left=0, bottom=-1, right=2, top=1, wspace=0, hspace=0); plt.show()"
   ]
  },
  {
   "cell_type": "markdown",
   "metadata": {},
   "source": [
    "Algumas dimensões não têm assim tanto impacto, como 'Responsability', pois o stemming é 'respons', que é igual ao stemming de 'Responsabilities', que é simplesmente o início de muitos parágrafos em cada job description."
   ]
  },
  {
   "cell_type": "code",
   "execution_count": 25,
   "metadata": {},
   "outputs": [
    {
     "data": {
      "text/plain": [
       "'respons'"
      ]
     },
     "execution_count": 25,
     "metadata": {},
     "output_type": "execute_result"
    }
   ],
   "source": [
    "lancaster.stem(\"Responsabilities\")"
   ]
  },
  {
   "cell_type": "code",
   "execution_count": 26,
   "metadata": {},
   "outputs": [
    {
     "name": "stdout",
     "output_type": "stream",
     "text": [
      "advisory 9\n",
      "advice 24\n",
      "advantageous 10\n",
      "Advisors 20\n",
      "advise 14\n",
      "advantage 56\n",
      "advancement 6\n",
      "Advisor 20\n",
      "Advanced 41\n",
      "advance 10\n",
      "advisor 12\n",
      "advanced 53\n"
     ]
    }
   ],
   "source": [
    "# Check \"Adventurousness\"\n",
    "adv = []\n",
    "for i in all_jobs_words:\n",
    "    if lancaster.stem(i) == lancaster.stem(\"adventurousness\"):\n",
    "        adv.append(i)   \n",
    "        \n",
    "for i in set(adv):\n",
    "    if Counter(all_jobs_words_extended)[i] > 5:\n",
    "        print(i, Counter(all_jobs_words_extended)[i])"
   ]
  },
  {
   "cell_type": "markdown",
   "metadata": {},
   "source": [
    "### Check how dimensions stems appear on job descriptions text"
   ]
  },
  {
   "cell_type": "code",
   "execution_count": 27,
   "metadata": {},
   "outputs": [
    {
     "name": "stdout",
     "output_type": "stream",
     "text": [
      "advisory 9\n",
      "advice 24\n",
      "advantageous 10\n",
      "Advisors 20\n",
      "advise 14\n",
      "advantage 56\n",
      "advancement 6\n",
      "Advisor 20\n",
      "Advanced 41\n",
      "advance 10\n",
      "advisor 12\n",
      "advanced 53\n"
     ]
    }
   ],
   "source": [
    "# Check \"Adventurousness\"\n",
    "adv = []\n",
    "for i in all_jobs_words:\n",
    "    if lancaster.stem(i) == lancaster.stem(\"adventurousness\"):\n",
    "        adv.append(i)   \n",
    "        \n",
    "for i in set(adv):\n",
    "    if Counter(all_jobs_words_extended)[i] > 5:\n",
    "        print(i, Counter(all_jobs_words_extended)[i])"
   ]
  },
  {
   "cell_type": "code",
   "execution_count": 28,
   "metadata": {},
   "outputs": [
    {
     "data": {
      "text/plain": [
       "'respons'"
      ]
     },
     "execution_count": 28,
     "metadata": {},
     "output_type": "execute_result"
    }
   ],
   "source": [
    "lancaster.stem(\"Responsabilities\")"
   ]
  },
  {
   "cell_type": "code",
   "execution_count": 29,
   "metadata": {},
   "outputs": [
    {
     "name": "stdout",
     "output_type": "stream",
     "text": [
      "Travel 27\n",
      "traveling 14\n",
      "travel 255\n",
      "travelers 22\n",
      "travellers 7\n"
     ]
    }
   ],
   "source": [
    "# Check \"Travel\"\n",
    "trav = []\n",
    "for i in all_jobs_words:\n",
    "    if lancaster.stem(i) == lancaster.stem(\"travel\"):\n",
    "        trav.append(i)   \n",
    "        \n",
    "for i in set(trav):\n",
    "    if Counter(all_jobs_words_extended)[i] > 5:\n",
    "        print(i, Counter(all_jobs_words_extended)[i])"
   ]
  },
  {
   "cell_type": "code",
   "execution_count": 30,
   "metadata": {},
   "outputs": [
    {
     "name": "stdout",
     "output_type": "stream",
     "text": [
      "lead 804\n",
      "Leadership 20\n",
      "leaders 63\n",
      "leading 233\n",
      "Leads 20\n",
      "Leader 10\n",
      "leads 42\n",
      "Lead 113\n",
      "Leading 13\n",
      "leader 97\n",
      "leadership 89\n"
     ]
    }
   ],
   "source": [
    "# Check \"Leadership\"\n",
    "lead = []\n",
    "for i in all_jobs_words:\n",
    "    if lancaster.stem(i) == lancaster.stem(\"leadership\"):\n",
    "        lead.append(i)   \n",
    "        \n",
    "for i in set(lead):\n",
    "    if Counter(all_jobs_words_extended)[i] > 5:\n",
    "        print(i, Counter(all_jobs_words_extended)[i])"
   ]
  },
  {
   "cell_type": "code",
   "execution_count": 31,
   "metadata": {},
   "outputs": [
    {
     "data": {
      "text/plain": [
       "'lead'"
      ]
     },
     "execution_count": 31,
     "metadata": {},
     "output_type": "execute_result"
    }
   ],
   "source": [
    "lancaster.stem(\"leadership\")"
   ]
  },
  {
   "cell_type": "code",
   "execution_count": 32,
   "metadata": {},
   "outputs": [
    {
     "name": "stdout",
     "output_type": "stream",
     "text": [
      "computing 21\n",
      "Computing 6\n",
      "Computers 6\n",
      "computer 94\n",
      "computers 8\n",
      "Computer 174\n"
     ]
    }
   ],
   "source": [
    "# Check \"Computing\"\n",
    "comp = []\n",
    "for i in all_jobs_words:\n",
    "    if lancaster.stem(i) == lancaster.stem(\"computing\"):\n",
    "        comp.append(i)   \n",
    "        \n",
    "for i in set(comp):\n",
    "    if Counter(all_jobs_words_extended)[i] > 5:\n",
    "        print(i, Counter(all_jobs_words_extended)[i])"
   ]
  },
  {
   "cell_type": "code",
   "execution_count": 33,
   "metadata": {},
   "outputs": [
    {
     "name": "stdout",
     "output_type": "stream",
     "text": [
      "food 54\n",
      "Food 8\n"
     ]
    }
   ],
   "source": [
    "# Check \"Food\"\n",
    "foodd = []\n",
    "for i in all_jobs_words:\n",
    "    if lancaster.stem(i) == lancaster.stem(\"food\"):\n",
    "        foodd.append(i)   \n",
    "        \n",
    "for i in set(foodd):\n",
    "    if Counter(all_jobs_words_extended)[i] > 5:\n",
    "        print(i, Counter(all_jobs_words_extended)[i])"
   ]
  },
  {
   "cell_type": "code",
   "execution_count": 34,
   "metadata": {},
   "outputs": [
    {
     "name": "stdout",
     "output_type": "stream",
     "text": [
      "satisfaction 52\n"
     ]
    }
   ],
   "source": [
    "# Check \"Satisfaction\"\n",
    "satisf = []\n",
    "for i in all_jobs_words:\n",
    "    if lancaster.stem(i) == lancaster.stem(\"satisfaction\"):\n",
    "        satisf.append(i)   \n",
    "        \n",
    "for i in set(satisf):\n",
    "    if Counter(all_jobs_words_extended)[i] > 5:\n",
    "        print(i, Counter(all_jobs_words_extended)[i])"
   ]
  },
  {
   "cell_type": "code",
   "execution_count": 35,
   "metadata": {},
   "outputs": [
    {
     "name": "stdout",
     "output_type": "stream",
     "text": [
      "Secure 19\n",
      "security 154\n",
      "securing 7\n",
      "Security 61\n",
      "secure 31\n"
     ]
    }
   ],
   "source": [
    "# Check \"Security\"\n",
    "secur = []\n",
    "for i in all_jobs_words:\n",
    "    if lancaster.stem(i) == lancaster.stem(\"security\"):\n",
    "        secur.append(i)   \n",
    "        \n",
    "for i in set(secur):\n",
    "    if Counter(all_jobs_words_extended)[i] > 5:\n",
    "        print(i, Counter(all_jobs_words_extended)[i])"
   ]
  },
  {
   "cell_type": "code",
   "execution_count": 36,
   "metadata": {},
   "outputs": [
    {
     "name": "stdout",
     "output_type": "stream",
     "text": [
      "creating 130\n",
      "creatively 8\n",
      "creation 52\n",
      "Creating 31\n",
      "creates 11\n",
      "create 223\n",
      "Creativity 9\n",
      "creative 95\n",
      "created 14\n",
      "Creative 19\n",
      "Creation 10\n",
      "creativity 47\n",
      "Create 68\n"
     ]
    }
   ],
   "source": [
    "# Check \"creativity\"\n",
    "creat = []\n",
    "for i in all_jobs_words:\n",
    "    if lancaster.stem(i) == lancaster.stem(\"creativity\"):\n",
    "        creat.append(i)   \n",
    "        \n",
    "for i in set(creat):\n",
    "    if Counter(all_jobs_words_extended)[i] > 5:\n",
    "        print(i, Counter(all_jobs_words_extended)[i])"
   ]
  },
  {
   "cell_type": "code",
   "execution_count": 37,
   "metadata": {},
   "outputs": [
    {
     "name": "stdout",
     "output_type": "stream",
     "text": [
      "Environment 10\n",
      "environment 575\n",
      "environmental 16\n",
      "environments 53\n"
     ]
    }
   ],
   "source": [
    "# Check \"environmentalism\"\n",
    "environm = []\n",
    "for i in all_jobs_words:\n",
    "    if lancaster.stem(i) == lancaster.stem(\"environmentalism\"):\n",
    "        environm.append(i)   \n",
    "        \n",
    "for i in set(environm):\n",
    "    if Counter(all_jobs_words_extended)[i] > 5:\n",
    "        print(i, Counter(all_jobs_words_extended)[i])"
   ]
  },
  {
   "cell_type": "code",
   "execution_count": 38,
   "metadata": {},
   "outputs": [
    {
     "name": "stdout",
     "output_type": "stream",
     "text": [
      "plans 96\n",
      "planning 131\n",
      "Plan 53\n",
      "plan 524\n",
      "Planning 23\n",
      "Plans 7\n",
      "planned 9\n"
     ]
    }
   ],
   "source": [
    "# Check \"planfulness\"\n",
    "planf = []\n",
    "for i in all_jobs_words:\n",
    "    if lancaster.stem(i) == lancaster.stem(\"planfulness\"):\n",
    "        planf.append(i)   \n",
    "        \n",
    "for i in set(planf):\n",
    "    if Counter(all_jobs_words_extended)[i] > 5:\n",
    "        print(i, Counter(all_jobs_words_extended)[i])"
   ]
  },
  {
   "cell_type": "code",
   "execution_count": 39,
   "metadata": {},
   "outputs": [
    {
     "name": "stdout",
     "output_type": "stream",
     "text": [
      "complexity 11\n",
      "complex 354\n"
     ]
    }
   ],
   "source": [
    "# Check \"complexity\"\n",
    "complx = []\n",
    "for i in all_jobs_words:\n",
    "    if lancaster.stem(i) == lancaster.stem(\"complexity\"):\n",
    "        complx.append(i)   \n",
    "        \n",
    "for i in set(complx):\n",
    "    if Counter(all_jobs_words_extended)[i] > 5:\n",
    "        print(i, Counter(all_jobs_words_extended)[i])"
   ]
  },
  {
   "cell_type": "code",
   "execution_count": 40,
   "metadata": {},
   "outputs": [
    {
     "name": "stdout",
     "output_type": "stream",
     "text": [
      "player 93\n",
      "plays 10\n",
      "Player 8\n",
      "play 184\n",
      "players 7\n"
     ]
    }
   ],
   "source": [
    "# Check \"humour/playfulness\"\n",
    "hum = []\n",
    "for i in all_jobs_words:\n",
    "    if lancaster.stem(i) == lancaster.stem(\"humour\"):\n",
    "        hum.append(i)   \n",
    "        \n",
    "for i in set(hum):\n",
    "    if Counter(all_jobs_words_extended)[i] > 5:\n",
    "        print(i, Counter(all_jobs_words_extended)[i])\n",
    "        \n",
    "####\n",
    "\n",
    "playf = []\n",
    "for i in all_jobs_words:\n",
    "    if lancaster.stem(i) == lancaster.stem(\"playfulness\"):\n",
    "        playf.append(i)   \n",
    "        \n",
    "for i in set(playf):\n",
    "    if Counter(all_jobs_words_extended)[i] > 5:\n",
    "        print(i, Counter(all_jobs_words_extended)[i])\n"
   ]
  },
  {
   "cell_type": "code",
   "execution_count": 41,
   "metadata": {},
   "outputs": [
    {
     "name": "stdout",
     "output_type": "stream",
     "text": [
      "Please 123\n",
      "pleasant 6\n",
      "please 122\n"
     ]
    }
   ],
   "source": [
    "# Check \"pleasantness\"\n",
    "pleas = []\n",
    "for i in all_jobs_words:\n",
    "    if lancaster.stem(i) == lancaster.stem(\"pleasantness\"):\n",
    "        pleas.append(i)   \n",
    "        \n",
    "for i in set(pleas):\n",
    "    if Counter(all_jobs_words_extended)[i] > 5:\n",
    "        print(i, Counter(all_jobs_words_extended)[i])"
   ]
  },
  {
   "cell_type": "code",
   "execution_count": 42,
   "metadata": {},
   "outputs": [
    {
     "name": "stdout",
     "output_type": "stream",
     "text": [
      "Order 12\n",
      "order 156\n",
      "orders 31\n"
     ]
    }
   ],
   "source": [
    "# Check \"orderliness\"\n",
    "orderl = []\n",
    "for i in all_jobs_words:\n",
    "    if lancaster.stem(i) == lancaster.stem(\"orderliness\"):\n",
    "        orderl.append(i)   \n",
    "        \n",
    "for i in set(orderl):\n",
    "    if Counter(all_jobs_words_extended)[i] > 5:\n",
    "        print(i, Counter(all_jobs_words_extended)[i])"
   ]
  },
  {
   "cell_type": "code",
   "execution_count": 55,
   "metadata": {},
   "outputs": [
    {
     "name": "stdout",
     "output_type": "stream",
     "text": [
      "More 28\n",
      "more 486\n",
      "mor 520\n"
     ]
    }
   ],
   "source": [
    "# Check \"morality\"\n",
    "moralit = []\n",
    "for i in all_jobs_words:\n",
    "    if lancaster.stem(i) == lancaster.stem(\"morality\"):\n",
    "        moralit.append(i)   \n",
    "        \n",
    "for i in set(moralit):\n",
    "    if Counter(all_jobs_words_extended)[i] > 5:\n",
    "        print(i, Counter(all_jobs_words_extended)[i])"
   ]
  },
  {
   "cell_type": "markdown",
   "metadata": {},
   "source": [
    "## Ver com as dimensões originais apenas"
   ]
  },
  {
   "cell_type": "code",
   "execution_count": 43,
   "metadata": {},
   "outputs": [
    {
     "name": "stdout",
     "output_type": "stream",
     "text": [
      "(245, 2)\n"
     ]
    },
    {
     "data": {
      "text/html": [
       "<div>\n",
       "<style scoped>\n",
       "    .dataframe tbody tr th:only-of-type {\n",
       "        vertical-align: middle;\n",
       "    }\n",
       "\n",
       "    .dataframe tbody tr th {\n",
       "        vertical-align: top;\n",
       "    }\n",
       "\n",
       "    .dataframe thead th {\n",
       "        text-align: right;\n",
       "    }\n",
       "</style>\n",
       "<table border=\"1\" class=\"dataframe\">\n",
       "  <thead>\n",
       "    <tr style=\"text-align: right;\">\n",
       "      <th></th>\n",
       "      <th>dimension</th>\n",
       "      <th>dimension_list</th>\n",
       "    </tr>\n",
       "  </thead>\n",
       "  <tbody>\n",
       "    <tr>\n",
       "      <th>0</th>\n",
       "      <td>Achievement-Striving</td>\n",
       "      <td>[achievement-striving]</td>\n",
       "    </tr>\n",
       "    <tr>\n",
       "      <th>1</th>\n",
       "      <td>Adaptability</td>\n",
       "      <td>[adaptability]</td>\n",
       "    </tr>\n",
       "    <tr>\n",
       "      <th>2</th>\n",
       "      <td>Ambition/Drive</td>\n",
       "      <td>[ambition, drive]</td>\n",
       "    </tr>\n",
       "    <tr>\n",
       "      <th>3</th>\n",
       "      <td>Assertiveness</td>\n",
       "      <td>[assertiveness]</td>\n",
       "    </tr>\n",
       "    <tr>\n",
       "      <th>4</th>\n",
       "      <td>Competence</td>\n",
       "      <td>[competence]</td>\n",
       "    </tr>\n",
       "    <tr>\n",
       "      <th>5</th>\n",
       "      <td>Cooperation</td>\n",
       "      <td>[cooperation]</td>\n",
       "    </tr>\n",
       "    <tr>\n",
       "      <th>6</th>\n",
       "      <td>Creativity/Originality</td>\n",
       "      <td>[creativity, originality]</td>\n",
       "    </tr>\n",
       "    <tr>\n",
       "      <th>7</th>\n",
       "      <td>Diligence</td>\n",
       "      <td>[diligence]</td>\n",
       "    </tr>\n",
       "    <tr>\n",
       "      <th>8</th>\n",
       "      <td>Efficiency</td>\n",
       "      <td>[efficiency]</td>\n",
       "    </tr>\n",
       "    <tr>\n",
       "      <th>9</th>\n",
       "      <td>Empathy</td>\n",
       "      <td>[empathy]</td>\n",
       "    </tr>\n",
       "  </tbody>\n",
       "</table>\n",
       "</div>"
      ],
      "text/plain": [
       "                dimension             dimension_list\n",
       "0    Achievement-Striving     [achievement-striving]\n",
       "1            Adaptability             [adaptability]\n",
       "2          Ambition/Drive          [ambition, drive]\n",
       "3           Assertiveness            [assertiveness]\n",
       "4              Competence               [competence]\n",
       "5             Cooperation              [cooperation]\n",
       "6  Creativity/Originality  [creativity, originality]\n",
       "7               Diligence                [diligence]\n",
       "8              Efficiency               [efficiency]\n",
       "9                 Empathy                  [empathy]"
      ]
     },
     "execution_count": 43,
     "metadata": {},
     "output_type": "execute_result"
    }
   ],
   "source": [
    "df_origin = pd.DataFrame(list(zip(list(dimensions_df['all_labels']), dimensions_list)), \n",
    "                         columns=['dimension', 'dimension_list'])\n",
    "\n",
    "# make some replacements\n",
    "new_equivalents = []\n",
    "for i in df_origin['dimension_list']:\n",
    "    if len(i) == 1:\n",
    "        new_equivalents.append([i[0].replace('Interest in ', '').replace('Capacity for ', '').replace(\n",
    "                                            'Capacity for ', '').replace('Locus of Control,', '').replace(\n",
    "                                            'Love for ', '').lower()])\n",
    "    else:\n",
    "        new_equivalents.append([j.lower() for j in i])\n",
    "\n",
    "# replace the series\n",
    "df_origin['dimension_list'] = new_equivalents.copy()\n",
    "print(df_origin.shape)\n",
    "df_origin.head(10)"
   ]
  },
  {
   "cell_type": "code",
   "execution_count": 44,
   "metadata": {},
   "outputs": [],
   "source": [
    "# # lower\n",
    "# lower_dimensions = []\n",
    "# for i in dimensions_list:\n",
    "#     all_js = []\n",
    "#     for j in i:\n",
    "#         all_js.append(j.lower())\n",
    "#     lower_dimensions.append(all_js)\n",
    "        \n",
    "# df_origin=pd.DataFrame(list(zip(list(dimensions_df['all_labels']),lower_dimensions)),columns=['dimension','dimension_list'])\n",
    "# df_origin.head()"
   ]
  },
  {
   "cell_type": "code",
   "execution_count": 45,
   "metadata": {},
   "outputs": [
    {
     "data": {
      "text/plain": [
       "['job', 'description', ',', 'low-code', 'style', ':', 'as', 'the', '#', '1']"
      ]
     },
     "execution_count": 45,
     "metadata": {},
     "output_type": "execute_result"
    }
   ],
   "source": [
    "# all words\n",
    "all_jobs_words2 = [i.lower() for i in nltk.word_tokenize(' '.join(jobs_en.body_parsed).replace('\\n', ''))]\n",
    "all_jobs_words2[:10]"
   ]
  },
  {
   "cell_type": "code",
   "execution_count": 46,
   "metadata": {},
   "outputs": [],
   "source": [
    "# all original dimensions\n",
    "# dimensions_list_lower = [i.lower() for i in list(itertools.chain.from_iterable(list(df_origin['dimension_list'])))]\n",
    "# dimensions_list_lower[:10]"
   ]
  },
  {
   "cell_type": "code",
   "execution_count": 47,
   "metadata": {},
   "outputs": [
    {
     "data": {
      "text/plain": [
       "['curiosity',\n",
       " 'drive',\n",
       " 'security',\n",
       " 'chance',\n",
       " 'culture',\n",
       " 'culture',\n",
       " 'computing',\n",
       " 'responsibility',\n",
       " 'efficiency',\n",
       " 'social']"
      ]
     },
     "execution_count": 47,
     "metadata": {},
     "output_type": "execute_result"
    }
   ],
   "source": [
    "# words that matter\n",
    "all_words2 = [i.lower() for i in all_jobs_words2 if i.lower() in dimensions_list_lower]\n",
    "all_words2[:10]"
   ]
  },
  {
   "cell_type": "code",
   "execution_count": 48,
   "metadata": {},
   "outputs": [
    {
     "name": "stdout",
     "output_type": "stream",
     "text": [
      "(245, 3)\n"
     ]
    },
    {
     "data": {
      "text/html": [
       "<div>\n",
       "<style scoped>\n",
       "    .dataframe tbody tr th:only-of-type {\n",
       "        vertical-align: middle;\n",
       "    }\n",
       "\n",
       "    .dataframe tbody tr th {\n",
       "        vertical-align: top;\n",
       "    }\n",
       "\n",
       "    .dataframe thead th {\n",
       "        text-align: right;\n",
       "    }\n",
       "</style>\n",
       "<table border=\"1\" class=\"dataframe\">\n",
       "  <thead>\n",
       "    <tr style=\"text-align: right;\">\n",
       "      <th></th>\n",
       "      <th>dimension</th>\n",
       "      <th>dimension_list</th>\n",
       "      <th>count_occurrences</th>\n",
       "    </tr>\n",
       "  </thead>\n",
       "  <tbody>\n",
       "    <tr>\n",
       "      <th>0</th>\n",
       "      <td>Achievement-Striving</td>\n",
       "      <td>[achievement-striving]</td>\n",
       "      <td>0</td>\n",
       "    </tr>\n",
       "    <tr>\n",
       "      <th>1</th>\n",
       "      <td>Adaptability</td>\n",
       "      <td>[adaptability]</td>\n",
       "      <td>6</td>\n",
       "    </tr>\n",
       "    <tr>\n",
       "      <th>2</th>\n",
       "      <td>Ambition/Drive</td>\n",
       "      <td>[ambition, drive]</td>\n",
       "      <td>251</td>\n",
       "    </tr>\n",
       "    <tr>\n",
       "      <th>3</th>\n",
       "      <td>Assertiveness</td>\n",
       "      <td>[assertiveness]</td>\n",
       "      <td>2</td>\n",
       "    </tr>\n",
       "    <tr>\n",
       "      <th>4</th>\n",
       "      <td>Competence</td>\n",
       "      <td>[competence]</td>\n",
       "      <td>11</td>\n",
       "    </tr>\n",
       "    <tr>\n",
       "      <th>5</th>\n",
       "      <td>Cooperation</td>\n",
       "      <td>[cooperation]</td>\n",
       "      <td>17</td>\n",
       "    </tr>\n",
       "    <tr>\n",
       "      <th>6</th>\n",
       "      <td>Creativity/Originality</td>\n",
       "      <td>[creativity, originality]</td>\n",
       "      <td>57</td>\n",
       "    </tr>\n",
       "    <tr>\n",
       "      <th>7</th>\n",
       "      <td>Diligence</td>\n",
       "      <td>[diligence]</td>\n",
       "      <td>11</td>\n",
       "    </tr>\n",
       "    <tr>\n",
       "      <th>8</th>\n",
       "      <td>Efficiency</td>\n",
       "      <td>[efficiency]</td>\n",
       "      <td>73</td>\n",
       "    </tr>\n",
       "    <tr>\n",
       "      <th>9</th>\n",
       "      <td>Empathy</td>\n",
       "      <td>[empathy]</td>\n",
       "      <td>19</td>\n",
       "    </tr>\n",
       "  </tbody>\n",
       "</table>\n",
       "</div>"
      ],
      "text/plain": [
       "                dimension             dimension_list  count_occurrences\n",
       "0    Achievement-Striving     [achievement-striving]                  0\n",
       "1            Adaptability             [adaptability]                  6\n",
       "2          Ambition/Drive          [ambition, drive]                251\n",
       "3           Assertiveness            [assertiveness]                  2\n",
       "4              Competence               [competence]                 11\n",
       "5             Cooperation              [cooperation]                 17\n",
       "6  Creativity/Originality  [creativity, originality]                 57\n",
       "7               Diligence                [diligence]                 11\n",
       "8              Efficiency               [efficiency]                 73\n",
       "9                 Empathy                  [empathy]                 19"
      ]
     },
     "execution_count": 48,
     "metadata": {},
     "output_type": "execute_result"
    }
   ],
   "source": [
    "# count occurrences\n",
    "\n",
    "count_occurrences2 = []\n",
    "for i in df_origin['dimension_list']:\n",
    "    count_here = 0\n",
    "    for j in i:\n",
    "        count_here += Counter(all_words2)[j]\n",
    "        count_here += Counter(two_words_occurrences)[' '.join(j.split('-'))]\n",
    "    count_occurrences2.append(count_here)\n",
    "\n",
    "# add counts\n",
    "df_origin['count_occurrences'] = count_occurrences2.copy()\n",
    "\n",
    "print(df_origin.shape)\n",
    "df_origin.head(10)"
   ]
  },
  {
   "cell_type": "code",
   "execution_count": 49,
   "metadata": {},
   "outputs": [
    {
     "data": {
      "text/html": [
       "<div>\n",
       "<style scoped>\n",
       "    .dataframe tbody tr th:only-of-type {\n",
       "        vertical-align: middle;\n",
       "    }\n",
       "\n",
       "    .dataframe tbody tr th {\n",
       "        vertical-align: top;\n",
       "    }\n",
       "\n",
       "    .dataframe thead th {\n",
       "        text-align: right;\n",
       "    }\n",
       "</style>\n",
       "<table border=\"1\" class=\"dataframe\">\n",
       "  <thead>\n",
       "    <tr style=\"text-align: right;\">\n",
       "      <th></th>\n",
       "      <th>dimension</th>\n",
       "      <th>dimension_list</th>\n",
       "      <th>count_occurrences</th>\n",
       "    </tr>\n",
       "  </thead>\n",
       "  <tbody>\n",
       "    <tr>\n",
       "      <th>219</th>\n",
       "      <td>Social/Personal/Emotional Intelligence</td>\n",
       "      <td>[social, personal, emotional intelligence]</td>\n",
       "      <td>322</td>\n",
       "    </tr>\n",
       "    <tr>\n",
       "      <th>235</th>\n",
       "      <td>Understanding</td>\n",
       "      <td>[understanding]</td>\n",
       "      <td>252</td>\n",
       "    </tr>\n",
       "    <tr>\n",
       "      <th>2</th>\n",
       "      <td>Ambition/Drive</td>\n",
       "      <td>[ambition, drive]</td>\n",
       "      <td>251</td>\n",
       "    </tr>\n",
       "    <tr>\n",
       "      <th>148</th>\n",
       "      <td>Locus of Control,Internal</td>\n",
       "      <td>[internal]</td>\n",
       "      <td>244</td>\n",
       "    </tr>\n",
       "    <tr>\n",
       "      <th>132</th>\n",
       "      <td>Interest in Travel</td>\n",
       "      <td>[travel]</td>\n",
       "      <td>227</td>\n",
       "    </tr>\n",
       "    <tr>\n",
       "      <th>203</th>\n",
       "      <td>Security</td>\n",
       "      <td>[security]</td>\n",
       "      <td>218</td>\n",
       "    </tr>\n",
       "    <tr>\n",
       "      <th>15</th>\n",
       "      <td>Organization</td>\n",
       "      <td>[organization]</td>\n",
       "      <td>176</td>\n",
       "    </tr>\n",
       "    <tr>\n",
       "      <th>55</th>\n",
       "      <td>Culture</td>\n",
       "      <td>[culture]</td>\n",
       "      <td>172</td>\n",
       "    </tr>\n",
       "    <tr>\n",
       "      <th>147</th>\n",
       "      <td>Locus of Control,External</td>\n",
       "      <td>[external]</td>\n",
       "      <td>138</td>\n",
       "    </tr>\n",
       "    <tr>\n",
       "      <th>192</th>\n",
       "      <td>Responsibility</td>\n",
       "      <td>[responsibility]</td>\n",
       "      <td>134</td>\n",
       "    </tr>\n",
       "    <tr>\n",
       "      <th>14</th>\n",
       "      <td>Leadership</td>\n",
       "      <td>[leadership]</td>\n",
       "      <td>110</td>\n",
       "    </tr>\n",
       "    <tr>\n",
       "      <th>42</th>\n",
       "      <td>Capacity for Love</td>\n",
       "      <td>[love]</td>\n",
       "      <td>107</td>\n",
       "    </tr>\n",
       "    <tr>\n",
       "      <th>17</th>\n",
       "      <td>Problem-solving</td>\n",
       "      <td>[problem-solving]</td>\n",
       "      <td>103</td>\n",
       "    </tr>\n",
       "    <tr>\n",
       "      <th>8</th>\n",
       "      <td>Efficiency</td>\n",
       "      <td>[efficiency]</td>\n",
       "      <td>73</td>\n",
       "    </tr>\n",
       "    <tr>\n",
       "      <th>21</th>\n",
       "      <td>Teamwork/Citizenship</td>\n",
       "      <td>[teamwork, citizenship]</td>\n",
       "      <td>65</td>\n",
       "    </tr>\n",
       "  </tbody>\n",
       "</table>\n",
       "</div>"
      ],
      "text/plain": [
       "                                  dimension  \\\n",
       "219  Social/Personal/Emotional Intelligence   \n",
       "235                           Understanding   \n",
       "2                            Ambition/Drive   \n",
       "148               Locus of Control,Internal   \n",
       "132                      Interest in Travel   \n",
       "203                                Security   \n",
       "15                             Organization   \n",
       "55                                  Culture   \n",
       "147               Locus of Control,External   \n",
       "192                          Responsibility   \n",
       "14                               Leadership   \n",
       "42                        Capacity for Love   \n",
       "17                          Problem-solving   \n",
       "8                                Efficiency   \n",
       "21                     Teamwork/Citizenship   \n",
       "\n",
       "                                 dimension_list  count_occurrences  \n",
       "219  [social, personal, emotional intelligence]                322  \n",
       "235                             [understanding]                252  \n",
       "2                             [ambition, drive]                251  \n",
       "148                                  [internal]                244  \n",
       "132                                    [travel]                227  \n",
       "203                                  [security]                218  \n",
       "15                               [organization]                176  \n",
       "55                                    [culture]                172  \n",
       "147                                  [external]                138  \n",
       "192                            [responsibility]                134  \n",
       "14                                 [leadership]                110  \n",
       "42                                       [love]                107  \n",
       "17                            [problem-solving]                103  \n",
       "8                                  [efficiency]                 73  \n",
       "21                      [teamwork, citizenship]                 65  "
      ]
     },
     "execution_count": 49,
     "metadata": {},
     "output_type": "execute_result"
    }
   ],
   "source": [
    "df_origin.sort_values('count_occurrences', ascending=False)[:15]"
   ]
  },
  {
   "cell_type": "code",
   "execution_count": 50,
   "metadata": {},
   "outputs": [
    {
     "data": {
      "image/png": "[encoded data removed]",
      "text/plain": [
       "<Figure size 432x288 with 1 Axes>"
      ]
     },
     "metadata": {},
     "output_type": "display_data"
    }
   ],
   "source": [
    "# plot\n",
    "plt.style.use('fivethirtyeight')\n",
    "plot_df2 = df_origin.sort_values('count_occurrences', ascending=False)[:20]\n",
    "\n",
    "ax = sns.barplot(x='count_occurrences', y='dimension', data=plot_df2, color=\"darkgreen\")\n",
    "ax.set_xlabel('count_occurrences')\n",
    "plt.title('Nº of occurences of the dimension-words in EN job descriptions dataset (WITHOUT stemming)')\n",
    "plt.subplots_adjust(left=0, bottom=-1, right=2, top=1, wspace=0, hspace=0)\n",
    "plt.show()"
   ]
  },
  {
   "cell_type": "code",
   "execution_count": 51,
   "metadata": {},
   "outputs": [
    {
     "name": "stdout",
     "output_type": "stream",
     "text": [
      "156\n",
      "162\n",
      "4\n"
     ]
    }
   ],
   "source": [
    "print(Counter(all_words2)['social'])\n",
    "print(Counter(all_words2)['personal'])\n",
    "print(Counter(two_words_occurrences)['emotional intelligence'])"
   ]
  },
  {
   "cell_type": "code",
   "execution_count": 52,
   "metadata": {},
   "outputs": [
    {
     "name": "stdout",
     "output_type": "stream",
     "text": [
      "Time to run: 15.2 minutes\n"
     ]
    }
   ],
   "source": [
    "end_time = time.time(); total_time = end_time - start_time\n",
    "print(\"\"\"Time to run: {} minutes\"\"\".format(round(total_time/60, 1)))"
   ]
  },
  {
   "cell_type": "markdown",
   "metadata": {},
   "source": [
    "======================================================================================================================="
   ]
  },
  {
   "cell_type": "markdown",
   "metadata": {},
   "source": [
    "[Table of Contents](#contents)"
   ]
  },
  {
   "cell_type": "markdown",
   "metadata": {},
   "source": [
    "<a id=\"feedback\"></a>\n",
    "# Feedback Dimensions - Miguel"
   ]
  },
  {
   "cell_type": "markdown",
   "metadata": {},
   "source": [
    "### 1) Feedback das 22 dimensões escolhidas"
   ]
  },
  {
   "cell_type": "markdown",
   "metadata": {},
   "source": [
    "Criei uma coluna no Excel como a Andrea fez (sorry não ponho aqui o link pq isto é público :)"
   ]
  },
  {
   "cell_type": "markdown",
   "metadata": {},
   "source": [
    "### 2) Dimensões a adicionar - Hipóteses"
   ]
  },
  {
   "cell_type": "markdown",
   "metadata": {},
   "source": [
    "Proponho olhar para algumas dimensões para vermos se acham relevantes e consistentes com as já escolhidas. "
   ]
  },
  {
   "cell_type": "markdown",
   "metadata": {},
   "source": [
    "- **Interest in Travel** (um pouco reticente com os items da escala no entanto)\n",
    "- **Curiosity**\n",
    "- **Planfulness** (penso que a MPQ reflete melhor a palavra do que a CPI, aqui, mas é só opinião pessoal)\n",
    "- **Complexity** (as perguntas em curiosity parecem estar relacionadas)\n"
   ]
  },
  {
   "cell_type": "markdown",
   "metadata": {},
   "source": [
    "O que fiz, para já, foi pegar numa amostra de \"job descriptions\" em Inglês (muitas delas criadas/escritas por empresas portuguesas) e simplesmente contar o número de vezes que cada uma das 245 dimensões listadas aparecem na oferta de emprego, isto é, ver a correspondência direta entre dimensão -> texto na job description. "
   ]
  },
  {
   "cell_type": "markdown",
   "metadata": {},
   "source": [
    "Assim, por exemplo, vou contar o número de vezes que as palavras \"creativity\" + \"originality\" aparecem (relativamente à dimensão \"Creativity/Originality\"), ou quantas vezes aparece \"leadership\" (quanto à dimensão \"Leadership\")."
   ]
  },
  {
   "cell_type": "markdown",
   "metadata": {},
   "source": [
    "**20 mais comuns**:"
   ]
  },
  {
   "cell_type": "code",
   "execution_count": 53,
   "metadata": {},
   "outputs": [
    {
     "data": {
      "image/png": "[encoded data removed]",
      "text/plain": [
       "<Figure size 432x288 with 1 Axes>"
      ]
     },
     "metadata": {},
     "output_type": "display_data"
    }
   ],
   "source": [
    "# plot\n",
    "plt.style.use('fivethirtyeight')\n",
    "plot_df2 = df_origin.sort_values('count_occurrences', ascending=False)[:20]\n",
    "ax = sns.barplot(x='count_occurrences', y='dimension', data=plot_df2, color=\"darkgreen\")\n",
    "ax.set_xlabel('count_occurrences')\n",
    "plt.title('Nº of occurences of the dimension-words in EN job descriptions dataset (WITHOUT stemming)')\n",
    "plt.subplots_adjust(left=0, bottom=-1, right=2, top=1, wspace=0, hspace=0)\n",
    "plt.show()"
   ]
  },
  {
   "cell_type": "markdown",
   "metadata": {},
   "source": [
    "Alguns exemplos não fazem sentido pensar em incluir nesta lógica, pois medem um aspeto/traço da pessoa diferente do que aquilo a que o texto se refere.\n",
    "\n",
    "Por exemplo \"Culture\". Nas escalas perguntam coisas como se vão ao teatro, enquanto que nas job descriptions se referem à cultura da empresa quase sempre.\n",
    "\n",
    "Outros exemplos na minha opinião: \n",
    "- \"Understanding\"; \n",
    "- \"Internal\" ; \n",
    "- \"Security\" ; \n",
    "- \"Organization\" ; \n",
    "- \"External\" ; \n",
    "- \"Responsability\" ;\n",
    "- \"Love\" ; \n",
    "- \"Social media\" ;\n",
    "- \"Food\" (perks) ;\n",
    "- \"Satisfaction\" (client)\n"
   ]
  },
  {
   "cell_type": "markdown",
   "metadata": {},
   "source": [
    "Das que sobram:\n",
    "    \n",
    "- Social/Personal/Emotional intelligence --> penso que \"Empathy\" e \"Adaptability\" já cobrem isto (?)\n",
    "- Travel --> é uma das minhas sugestões. Pedido em muitas ofertas\n",
    "\n",
    "As restantes já estão incluídas nas 22 sugeridas pela Filipa.\n",
    "\n"
   ]
  },
  {
   "cell_type": "markdown",
   "metadata": {},
   "source": [
    "### Passo seguinte - ter em conta a raiz das palavras"
   ]
  },
  {
   "cell_type": "markdown",
   "metadata": {},
   "source": [
    "O que fiz de seguida foi ter em conta a raiz das palavras, usando um processo a que se chama \"Stemming\" (reduzir palavras flexionadas ao seu tronco (stem), base ou raiz). Isto é, não estava a contar para a dimensão \"Creativity/Originality\" se no texto aparecesse \"creative\", por exemplo. Assim, neste caso a raiz de \"creativity\", \"creative\", \"create\", \"creating\" vai ser sempre igual a \"cre\"."
   ]
  },
  {
   "cell_type": "markdown",
   "metadata": {},
   "source": [
    "**20 mais comuns**"
   ]
  },
  {
   "cell_type": "code",
   "execution_count": 54,
   "metadata": {},
   "outputs": [
    {
     "data": {
      "image/png": "[encoded data removed]",
      "text/plain": [
       "<Figure size 432x288 with 1 Axes>"
      ]
     },
     "metadata": {},
     "output_type": "display_data"
    }
   ],
   "source": [
    "# plot\n",
    "plt.style.use('fivethirtyeight')\n",
    "plot_df = df.sort_values('count_occurrences', ascending=False)[:30]\n",
    "\n",
    "ax = sns.barplot(x='count_occurrences', y='dimension', data=plot_df, color=\"darkblue\")\n",
    "ax.set_xlabel('count_occurrences')\n",
    "plt.title('Nº of occurences of the dimension-words in EN job descriptions dataset (w/ stemming)')\n",
    "plt.subplots_adjust(left=0, bottom=-1, right=2, top=1, wspace=0, hspace=0); plt.show()"
   ]
  },
  {
   "cell_type": "markdown",
   "metadata": {},
   "source": [
    "Algumas dimensões não têm assim tanto impacto, como 'Adventurousness', pois o stemming é 'adv', que é igual ao stemming de 'advanced', por exemplo.\n",
    "\n",
    "Outros exemplos ou casos não relevantes na minha opinião: \n",
    "- 'Responsability' / 'Responsabilities' (início de muitas job descriptions). Nota: ainda assim parece-me uma dimensão relacionada com o trabalho, mas 'Diligence' cobre bem o termo já.\n",
    "- 'Internal' / 'internship', 'internal' com outros significados\n",
    "- 'Environmentalism' / a palavra 'environment' presente nos textos\n",
    "- 'Understanding'\n",
    "- 'Organization'\n",
    "- 'Computing' / palavra computer\n",
    "- 'Security'\n",
    "- 'Humour/playfulness' / 'play'\n",
    "- Pleasantness / tem a ver com 'please'\n",
    "- Morality -> tem a ver com a palavra \"more\"\n"
   ]
  },
  {
   "cell_type": "markdown",
   "metadata": {},
   "source": [
    "Das que sobram, acrescento à discussão:\n",
    "    \n",
    "- Planfulness\n",
    "- Curiosity\n",
    "- Complexity \n",
    "\n",
    "As restantes já estão presentes na lista da Filipa."
   ]
  },
  {
   "cell_type": "code",
   "execution_count": null,
   "metadata": {},
   "outputs": [],
   "source": []
  },
  {
   "cell_type": "code",
   "execution_count": null,
   "metadata": {},
   "outputs": [],
   "source": []
  },
  {
   "cell_type": "code",
   "execution_count": null,
   "metadata": {},
   "outputs": [],
   "source": []
  }
 ],
 "metadata": {
  "kernelspec": {
   "display_name": "Python 3",
   "language": "python",
   "name": "python3"
  },
  "language_info": {
   "codemirror_mode": {
    "name": "ipython",
    "version": 3
   },
   "file_extension": ".py",
   "mimetype": "text/x-python",
   "name": "python",
   "nbconvert_exporter": "python",
   "pygments_lexer": "ipython3",
   "version": "3.8.3"
  }
 },
 "nbformat": 4,
 "nbformat_minor": 4
}
