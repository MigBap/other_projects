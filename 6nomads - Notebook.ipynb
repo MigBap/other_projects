{
 "cells": [
  {
   "cell_type": "markdown",
   "metadata": {},
   "source": [
    "### Notebook for 6Nomads.com"
   ]
  },
  {
   "cell_type": "code",
   "execution_count": 1,
   "metadata": {},
   "outputs": [],
   "source": [
    "%matplotlib inline\n",
    "import pandas as pd\n",
    "import numpy as np\n",
    "import matplotlib.pyplot as plt\n",
    "import seaborn as sns\n",
    "sns.set()\n"
   ]
  },
  {
   "cell_type": "code",
   "execution_count": 2,
   "metadata": {},
   "outputs": [],
   "source": [
    "# import dataframes\n",
    "df_train = pd.read_csv('train.csv', header=-1)\n",
    "df_test = pd.read_csv('test.csv', header=-1)\n",
    "\n",
    "# join\n",
    "df = pd.concat([df_train, df_test])"
   ]
  },
  {
   "cell_type": "markdown",
   "metadata": {},
   "source": [
    "### Data inspection and cleaning"
   ]
  },
  {
   "cell_type": "markdown",
   "metadata": {},
   "source": [
    "First I will look at the general characteristics of the dataset and see if it is necessary to perform any cleaning or reorganization."
   ]
  },
  {
   "cell_type": "code",
   "execution_count": 3,
   "metadata": {},
   "outputs": [
    {
     "data": {
      "text/html": [
       "<div>\n",
       "<style scoped>\n",
       "    .dataframe tbody tr th:only-of-type {\n",
       "        vertical-align: middle;\n",
       "    }\n",
       "\n",
       "    .dataframe tbody tr th {\n",
       "        vertical-align: top;\n",
       "    }\n",
       "\n",
       "    .dataframe thead th {\n",
       "        text-align: right;\n",
       "    }\n",
       "</style>\n",
       "<table border=\"1\" class=\"dataframe\">\n",
       "  <thead>\n",
       "    <tr style=\"text-align: right;\">\n",
       "      <th></th>\n",
       "      <th>0</th>\n",
       "      <th>1</th>\n",
       "      <th>2</th>\n",
       "      <th>3</th>\n",
       "      <th>4</th>\n",
       "      <th>5</th>\n",
       "      <th>6</th>\n",
       "      <th>7</th>\n",
       "      <th>8</th>\n",
       "      <th>9</th>\n",
       "      <th>...</th>\n",
       "      <th>56</th>\n",
       "      <th>57</th>\n",
       "      <th>58</th>\n",
       "      <th>59</th>\n",
       "      <th>60</th>\n",
       "      <th>61</th>\n",
       "      <th>62</th>\n",
       "      <th>63</th>\n",
       "      <th>64</th>\n",
       "      <th>65</th>\n",
       "    </tr>\n",
       "  </thead>\n",
       "  <tbody>\n",
       "    <tr>\n",
       "      <th>0</th>\n",
       "      <td>-47</td>\n",
       "      <td>0</td>\n",
       "      <td>-5</td>\n",
       "      <td>-27</td>\n",
       "      <td>-11.0</td>\n",
       "      <td>-19.0</td>\n",
       "      <td>-2.0</td>\n",
       "      <td>-33.0</td>\n",
       "      <td>37</td>\n",
       "      <td>0</td>\n",
       "      <td>...</td>\n",
       "      <td>0</td>\n",
       "      <td>2</td>\n",
       "      <td>-4</td>\n",
       "      <td>-3</td>\n",
       "      <td>4</td>\n",
       "      <td>-23</td>\n",
       "      <td>-68</td>\n",
       "      <td>15</td>\n",
       "      <td>C</td>\n",
       "      <td>0</td>\n",
       "    </tr>\n",
       "    <tr>\n",
       "      <th>1</th>\n",
       "      <td>1</td>\n",
       "      <td>1</td>\n",
       "      <td>-2</td>\n",
       "      <td>-3</td>\n",
       "      <td>-1.0</td>\n",
       "      <td>-3.0</td>\n",
       "      <td>39.0</td>\n",
       "      <td>10.0</td>\n",
       "      <td>0</td>\n",
       "      <td>-1</td>\n",
       "      <td>...</td>\n",
       "      <td>-7</td>\n",
       "      <td>-2</td>\n",
       "      <td>1</td>\n",
       "      <td>6</td>\n",
       "      <td>-2</td>\n",
       "      <td>4</td>\n",
       "      <td>22</td>\n",
       "      <td>2</td>\n",
       "      <td>C</td>\n",
       "      <td>0</td>\n",
       "    </tr>\n",
       "    <tr>\n",
       "      <th>2</th>\n",
       "      <td>1</td>\n",
       "      <td>-4</td>\n",
       "      <td>-2</td>\n",
       "      <td>-6</td>\n",
       "      <td>-20.0</td>\n",
       "      <td>20.0</td>\n",
       "      <td>-1.0</td>\n",
       "      <td>-3.0</td>\n",
       "      <td>20</td>\n",
       "      <td>3</td>\n",
       "      <td>...</td>\n",
       "      <td>14</td>\n",
       "      <td>2</td>\n",
       "      <td>-2</td>\n",
       "      <td>0</td>\n",
       "      <td>23</td>\n",
       "      <td>21</td>\n",
       "      <td>-3</td>\n",
       "      <td>22</td>\n",
       "      <td>A</td>\n",
       "      <td>1</td>\n",
       "    </tr>\n",
       "    <tr>\n",
       "      <th>3</th>\n",
       "      <td>10</td>\n",
       "      <td>2</td>\n",
       "      <td>1</td>\n",
       "      <td>-7</td>\n",
       "      <td>-8.0</td>\n",
       "      <td>12.0</td>\n",
       "      <td>41.0</td>\n",
       "      <td>21.0</td>\n",
       "      <td>-14</td>\n",
       "      <td>3</td>\n",
       "      <td>...</td>\n",
       "      <td>2</td>\n",
       "      <td>1</td>\n",
       "      <td>2</td>\n",
       "      <td>-2</td>\n",
       "      <td>-8</td>\n",
       "      <td>-29</td>\n",
       "      <td>29</td>\n",
       "      <td>7</td>\n",
       "      <td>C</td>\n",
       "      <td>0</td>\n",
       "    </tr>\n",
       "    <tr>\n",
       "      <th>4</th>\n",
       "      <td>1</td>\n",
       "      <td>-3</td>\n",
       "      <td>-2</td>\n",
       "      <td>-6</td>\n",
       "      <td>1.0</td>\n",
       "      <td>0.0</td>\n",
       "      <td>10.0</td>\n",
       "      <td>-6.0</td>\n",
       "      <td>4</td>\n",
       "      <td>0</td>\n",
       "      <td>...</td>\n",
       "      <td>5</td>\n",
       "      <td>0</td>\n",
       "      <td>-3</td>\n",
       "      <td>-8</td>\n",
       "      <td>-11</td>\n",
       "      <td>-2</td>\n",
       "      <td>19</td>\n",
       "      <td>4</td>\n",
       "      <td>C</td>\n",
       "      <td>0</td>\n",
       "    </tr>\n",
       "  </tbody>\n",
       "</table>\n",
       "<p>5 rows × 66 columns</p>\n",
       "</div>"
      ],
      "text/plain": [
       "   0   1   2   3     4     5     6     7   8   9   ...  56  57  58  59  60  \\\n",
       "0 -47   0  -5 -27 -11.0 -19.0  -2.0 -33.0  37   0  ...   0   2  -4  -3   4   \n",
       "1   1   1  -2  -3  -1.0  -3.0  39.0  10.0   0  -1  ...  -7  -2   1   6  -2   \n",
       "2   1  -4  -2  -6 -20.0  20.0  -1.0  -3.0  20   3  ...  14   2  -2   0  23   \n",
       "3  10   2   1  -7  -8.0  12.0  41.0  21.0 -14   3  ...   2   1   2  -2  -8   \n",
       "4   1  -3  -2  -6   1.0   0.0  10.0  -6.0   4   0  ...   5   0  -3  -8 -11   \n",
       "\n",
       "   61  62  63  64  65  \n",
       "0 -23 -68  15   C   0  \n",
       "1   4  22   2   C   0  \n",
       "2  21  -3  22   A   1  \n",
       "3 -29  29   7   C   0  \n",
       "4  -2  19   4   C   0  \n",
       "\n",
       "[5 rows x 66 columns]"
      ]
     },
     "execution_count": 3,
     "metadata": {},
     "output_type": "execute_result"
    }
   ],
   "source": [
    "df.head()"
   ]
  },
  {
   "cell_type": "code",
   "execution_count": 4,
   "metadata": {},
   "outputs": [
    {
     "data": {
      "text/plain": [
       "count    11678.000000\n",
       "mean         1.501113\n",
       "std          1.112784\n",
       "min          0.000000\n",
       "25%          1.000000\n",
       "50%          2.000000\n",
       "75%          2.000000\n",
       "max          3.000000\n",
       "Name: 65, dtype: float64"
      ]
     },
     "execution_count": 4,
     "metadata": {},
     "output_type": "execute_result"
    }
   ],
   "source": [
    "df[65].describe() # target"
   ]
  },
  {
   "cell_type": "code",
   "execution_count": 5,
   "metadata": {},
   "outputs": [
    {
     "data": {
      "image/png": "[encoded data removed]",
      "text/plain": [
       "<Figure size 432x288 with 3 Axes>"
      ]
     },
     "metadata": {
      "needs_background": "light"
     },
     "output_type": "display_data"
    }
   ],
   "source": [
    "plt.subplot(2, 2, 1)\n",
    "sns.countplot(df[65])\n",
    "plt.title(\"Counting the target variable - All data\")\n",
    "plt.xlabel(\"Class\")\n",
    "\n",
    "plt.subplot(2, 2, 3)\n",
    "sns.countplot(df_train[65])\n",
    "plt.title(\"Counting the target variable - training data\")\n",
    "plt.xlabel(\"Class\")\n",
    "\n",
    "plt.subplot(2, 2, 4)\n",
    "sns.countplot(df_test[65])\n",
    "plt.title(\"Counting the target variable - test data\")\n",
    "plt.xlabel(\"Class\")\n",
    "\n",
    "plt.subplots_adjust(left=0, bottom=-0.5, right=2, top=1, wspace=0.3, hspace=0.5)\n",
    "plt.show()"
   ]
  },
  {
   "cell_type": "markdown",
   "metadata": {},
   "source": [
    "The target variable is almost equally distributed (we can consider balanced data)"
   ]
  },
  {
   "cell_type": "code",
   "execution_count": 6,
   "metadata": {},
   "outputs": [
    {
     "name": "stdout",
     "output_type": "stream",
     "text": [
      "<class 'pandas.core.frame.DataFrame'>\n",
      "Int64Index: 11678 entries, 0 to 2999\n",
      "Data columns (total 66 columns):\n",
      "0     11678 non-null int64\n",
      "1     11678 non-null int64\n",
      "2     11678 non-null int64\n",
      "3     11678 non-null int64\n",
      "4     11677 non-null float64\n",
      "5     11677 non-null float64\n",
      "6     11677 non-null float64\n",
      "7     11677 non-null float64\n",
      "8     11678 non-null int64\n",
      "9     11678 non-null int64\n",
      "10    11678 non-null int64\n",
      "11    11678 non-null int64\n",
      "12    11678 non-null int64\n",
      "13    11678 non-null int64\n",
      "14    11676 non-null float64\n",
      "15    11678 non-null int64\n",
      "16    11678 non-null int64\n",
      "17    11675 non-null float64\n",
      "18    11677 non-null float64\n",
      "19    11677 non-null float64\n",
      "20    11678 non-null int64\n",
      "21    11678 non-null int64\n",
      "22    11677 non-null float64\n",
      "23    11678 non-null int64\n",
      "24    11678 non-null int64\n",
      "25    11678 non-null int64\n",
      "26    11678 non-null int64\n",
      "27    11678 non-null int64\n",
      "28    11678 non-null int64\n",
      "29    11678 non-null int64\n",
      "30    11678 non-null int64\n",
      "31    11678 non-null int64\n",
      "32    11678 non-null int64\n",
      "33    11678 non-null int64\n",
      "34    11678 non-null int64\n",
      "35    11678 non-null int64\n",
      "36    11678 non-null int64\n",
      "37    11678 non-null int64\n",
      "38    11678 non-null int64\n",
      "39    11678 non-null int64\n",
      "40    11678 non-null int64\n",
      "41    11678 non-null int64\n",
      "42    11678 non-null int64\n",
      "43    11678 non-null int64\n",
      "44    11678 non-null int64\n",
      "45    11678 non-null int64\n",
      "46    11678 non-null int64\n",
      "47    11678 non-null int64\n",
      "48    11678 non-null int64\n",
      "49    11678 non-null int64\n",
      "50    11678 non-null int64\n",
      "51    11678 non-null int64\n",
      "52    11678 non-null int64\n",
      "53    11678 non-null int64\n",
      "54    11678 non-null int64\n",
      "55    11678 non-null int64\n",
      "56    11678 non-null int64\n",
      "57    11678 non-null int64\n",
      "58    11678 non-null int64\n",
      "59    11678 non-null int64\n",
      "60    11678 non-null int64\n",
      "61    11678 non-null int64\n",
      "62    11678 non-null int64\n",
      "63    11678 non-null int64\n",
      "64    11678 non-null object\n",
      "65    11678 non-null int64\n",
      "dtypes: float64(9), int64(56), object(1)\n",
      "memory usage: 6.3+ MB\n"
     ]
    }
   ],
   "source": [
    "df.info()"
   ]
  },
  {
   "cell_type": "code",
   "execution_count": 7,
   "metadata": {},
   "outputs": [
    {
     "data": {
      "text/html": [
       "<div>\n",
       "<style scoped>\n",
       "    .dataframe tbody tr th:only-of-type {\n",
       "        vertical-align: middle;\n",
       "    }\n",
       "\n",
       "    .dataframe tbody tr th {\n",
       "        vertical-align: top;\n",
       "    }\n",
       "\n",
       "    .dataframe thead th {\n",
       "        text-align: right;\n",
       "    }\n",
       "</style>\n",
       "<table border=\"1\" class=\"dataframe\">\n",
       "  <thead>\n",
       "    <tr style=\"text-align: right;\">\n",
       "      <th></th>\n",
       "      <th>0</th>\n",
       "      <th>1</th>\n",
       "      <th>2</th>\n",
       "      <th>3</th>\n",
       "      <th>4</th>\n",
       "      <th>5</th>\n",
       "      <th>6</th>\n",
       "      <th>7</th>\n",
       "      <th>8</th>\n",
       "      <th>9</th>\n",
       "      <th>...</th>\n",
       "      <th>55</th>\n",
       "      <th>56</th>\n",
       "      <th>57</th>\n",
       "      <th>58</th>\n",
       "      <th>59</th>\n",
       "      <th>60</th>\n",
       "      <th>61</th>\n",
       "      <th>62</th>\n",
       "      <th>63</th>\n",
       "      <th>65</th>\n",
       "    </tr>\n",
       "  </thead>\n",
       "  <tbody>\n",
       "    <tr>\n",
       "      <th>count</th>\n",
       "      <td>11678.000000</td>\n",
       "      <td>11678.000000</td>\n",
       "      <td>11678.000000</td>\n",
       "      <td>11678.000000</td>\n",
       "      <td>11677.000000</td>\n",
       "      <td>11677.000000</td>\n",
       "      <td>11677.000000</td>\n",
       "      <td>11677.000000</td>\n",
       "      <td>11678.000000</td>\n",
       "      <td>11678.000000</td>\n",
       "      <td>...</td>\n",
       "      <td>11678.000000</td>\n",
       "      <td>11678.000000</td>\n",
       "      <td>11678.000000</td>\n",
       "      <td>11678.000000</td>\n",
       "      <td>11678.000000</td>\n",
       "      <td>11678.000000</td>\n",
       "      <td>11678.000000</td>\n",
       "      <td>11678.000000</td>\n",
       "      <td>11678.000000</td>\n",
       "      <td>11678.000000</td>\n",
       "    </tr>\n",
       "    <tr>\n",
       "      <th>mean</th>\n",
       "      <td>-0.458726</td>\n",
       "      <td>-0.692499</td>\n",
       "      <td>-0.747645</td>\n",
       "      <td>-0.659616</td>\n",
       "      <td>-0.276698</td>\n",
       "      <td>-0.420399</td>\n",
       "      <td>-1.296395</td>\n",
       "      <td>-0.740516</td>\n",
       "      <td>-0.584518</td>\n",
       "      <td>-0.569532</td>\n",
       "      <td>...</td>\n",
       "      <td>-1.013872</td>\n",
       "      <td>-0.826083</td>\n",
       "      <td>-0.709539</td>\n",
       "      <td>-0.788577</td>\n",
       "      <td>-0.687446</td>\n",
       "      <td>-0.281641</td>\n",
       "      <td>-0.688132</td>\n",
       "      <td>-1.253811</td>\n",
       "      <td>-0.544699</td>\n",
       "      <td>1.501113</td>\n",
       "    </tr>\n",
       "    <tr>\n",
       "      <th>std</th>\n",
       "      <td>18.794093</td>\n",
       "      <td>11.822496</td>\n",
       "      <td>4.958605</td>\n",
       "      <td>7.372727</td>\n",
       "      <td>17.914458</td>\n",
       "      <td>25.771968</td>\n",
       "      <td>25.008801</td>\n",
       "      <td>15.377319</td>\n",
       "      <td>18.284779</td>\n",
       "      <td>11.716408</td>\n",
       "      <td>...</td>\n",
       "      <td>14.893455</td>\n",
       "      <td>18.037223</td>\n",
       "      <td>11.893841</td>\n",
       "      <td>4.983341</td>\n",
       "      <td>7.342682</td>\n",
       "      <td>17.714179</td>\n",
       "      <td>25.404209</td>\n",
       "      <td>25.422806</td>\n",
       "      <td>15.335092</td>\n",
       "      <td>1.112784</td>\n",
       "    </tr>\n",
       "    <tr>\n",
       "      <th>min</th>\n",
       "      <td>-116.000000</td>\n",
       "      <td>-104.000000</td>\n",
       "      <td>-33.000000</td>\n",
       "      <td>-75.000000</td>\n",
       "      <td>-121.000000</td>\n",
       "      <td>-122.000000</td>\n",
       "      <td>-128.000000</td>\n",
       "      <td>-128.000000</td>\n",
       "      <td>-110.000000</td>\n",
       "      <td>-128.000000</td>\n",
       "      <td>...</td>\n",
       "      <td>-128.000000</td>\n",
       "      <td>-107.000000</td>\n",
       "      <td>-124.000000</td>\n",
       "      <td>-46.000000</td>\n",
       "      <td>-74.000000</td>\n",
       "      <td>-97.000000</td>\n",
       "      <td>-128.000000</td>\n",
       "      <td>-128.000000</td>\n",
       "      <td>-124.000000</td>\n",
       "      <td>0.000000</td>\n",
       "    </tr>\n",
       "    <tr>\n",
       "      <th>25%</th>\n",
       "      <td>-9.000000</td>\n",
       "      <td>-4.000000</td>\n",
       "      <td>-3.000000</td>\n",
       "      <td>-4.000000</td>\n",
       "      <td>-10.000000</td>\n",
       "      <td>-15.000000</td>\n",
       "      <td>-6.000000</td>\n",
       "      <td>-8.000000</td>\n",
       "      <td>-9.000000</td>\n",
       "      <td>-4.000000</td>\n",
       "      <td>...</td>\n",
       "      <td>-8.000000</td>\n",
       "      <td>-9.000000</td>\n",
       "      <td>-4.000000</td>\n",
       "      <td>-3.000000</td>\n",
       "      <td>-4.000000</td>\n",
       "      <td>-10.000000</td>\n",
       "      <td>-14.000000</td>\n",
       "      <td>-6.000000</td>\n",
       "      <td>-8.000000</td>\n",
       "      <td>1.000000</td>\n",
       "    </tr>\n",
       "    <tr>\n",
       "      <th>50%</th>\n",
       "      <td>-1.000000</td>\n",
       "      <td>-1.000000</td>\n",
       "      <td>-1.000000</td>\n",
       "      <td>-1.000000</td>\n",
       "      <td>0.000000</td>\n",
       "      <td>-1.000000</td>\n",
       "      <td>-1.000000</td>\n",
       "      <td>-1.000000</td>\n",
       "      <td>-1.000000</td>\n",
       "      <td>-1.000000</td>\n",
       "      <td>...</td>\n",
       "      <td>-1.000000</td>\n",
       "      <td>-1.000000</td>\n",
       "      <td>-1.000000</td>\n",
       "      <td>-1.000000</td>\n",
       "      <td>-1.000000</td>\n",
       "      <td>0.000000</td>\n",
       "      <td>-1.000000</td>\n",
       "      <td>-1.000000</td>\n",
       "      <td>-1.000000</td>\n",
       "      <td>2.000000</td>\n",
       "    </tr>\n",
       "    <tr>\n",
       "      <th>75%</th>\n",
       "      <td>7.000000</td>\n",
       "      <td>3.000000</td>\n",
       "      <td>2.000000</td>\n",
       "      <td>3.000000</td>\n",
       "      <td>10.000000</td>\n",
       "      <td>14.000000</td>\n",
       "      <td>4.000000</td>\n",
       "      <td>6.000000</td>\n",
       "      <td>7.000000</td>\n",
       "      <td>3.000000</td>\n",
       "      <td>...</td>\n",
       "      <td>5.000000</td>\n",
       "      <td>6.000000</td>\n",
       "      <td>3.000000</td>\n",
       "      <td>2.000000</td>\n",
       "      <td>3.000000</td>\n",
       "      <td>10.000000</td>\n",
       "      <td>13.000000</td>\n",
       "      <td>3.000000</td>\n",
       "      <td>6.000000</td>\n",
       "      <td>2.000000</td>\n",
       "    </tr>\n",
       "    <tr>\n",
       "      <th>max</th>\n",
       "      <td>111.000000</td>\n",
       "      <td>90.000000</td>\n",
       "      <td>30.000000</td>\n",
       "      <td>55.000000</td>\n",
       "      <td>92.000000</td>\n",
       "      <td>127.000000</td>\n",
       "      <td>127.000000</td>\n",
       "      <td>126.000000</td>\n",
       "      <td>127.000000</td>\n",
       "      <td>89.000000</td>\n",
       "      <td>...</td>\n",
       "      <td>108.000000</td>\n",
       "      <td>127.000000</td>\n",
       "      <td>105.000000</td>\n",
       "      <td>29.000000</td>\n",
       "      <td>51.000000</td>\n",
       "      <td>81.000000</td>\n",
       "      <td>127.000000</td>\n",
       "      <td>127.000000</td>\n",
       "      <td>123.000000</td>\n",
       "      <td>3.000000</td>\n",
       "    </tr>\n",
       "  </tbody>\n",
       "</table>\n",
       "<p>8 rows × 65 columns</p>\n",
       "</div>"
      ],
      "text/plain": [
       "                 0             1             2             3             4   \\\n",
       "count  11678.000000  11678.000000  11678.000000  11678.000000  11677.000000   \n",
       "mean      -0.458726     -0.692499     -0.747645     -0.659616     -0.276698   \n",
       "std       18.794093     11.822496      4.958605      7.372727     17.914458   \n",
       "min     -116.000000   -104.000000    -33.000000    -75.000000   -121.000000   \n",
       "25%       -9.000000     -4.000000     -3.000000     -4.000000    -10.000000   \n",
       "50%       -1.000000     -1.000000     -1.000000     -1.000000      0.000000   \n",
       "75%        7.000000      3.000000      2.000000      3.000000     10.000000   \n",
       "max      111.000000     90.000000     30.000000     55.000000     92.000000   \n",
       "\n",
       "                 5             6             7             8             9   \\\n",
       "count  11677.000000  11677.000000  11677.000000  11678.000000  11678.000000   \n",
       "mean      -0.420399     -1.296395     -0.740516     -0.584518     -0.569532   \n",
       "std       25.771968     25.008801     15.377319     18.284779     11.716408   \n",
       "min     -122.000000   -128.000000   -128.000000   -110.000000   -128.000000   \n",
       "25%      -15.000000     -6.000000     -8.000000     -9.000000     -4.000000   \n",
       "50%       -1.000000     -1.000000     -1.000000     -1.000000     -1.000000   \n",
       "75%       14.000000      4.000000      6.000000      7.000000      3.000000   \n",
       "max      127.000000    127.000000    126.000000    127.000000     89.000000   \n",
       "\n",
       "       ...            55            56            57            58  \\\n",
       "count  ...  11678.000000  11678.000000  11678.000000  11678.000000   \n",
       "mean   ...     -1.013872     -0.826083     -0.709539     -0.788577   \n",
       "std    ...     14.893455     18.037223     11.893841      4.983341   \n",
       "min    ...   -128.000000   -107.000000   -124.000000    -46.000000   \n",
       "25%    ...     -8.000000     -9.000000     -4.000000     -3.000000   \n",
       "50%    ...     -1.000000     -1.000000     -1.000000     -1.000000   \n",
       "75%    ...      5.000000      6.000000      3.000000      2.000000   \n",
       "max    ...    108.000000    127.000000    105.000000     29.000000   \n",
       "\n",
       "                 59            60            61            62            63  \\\n",
       "count  11678.000000  11678.000000  11678.000000  11678.000000  11678.000000   \n",
       "mean      -0.687446     -0.281641     -0.688132     -1.253811     -0.544699   \n",
       "std        7.342682     17.714179     25.404209     25.422806     15.335092   \n",
       "min      -74.000000    -97.000000   -128.000000   -128.000000   -124.000000   \n",
       "25%       -4.000000    -10.000000    -14.000000     -6.000000     -8.000000   \n",
       "50%       -1.000000      0.000000     -1.000000     -1.000000     -1.000000   \n",
       "75%        3.000000     10.000000     13.000000      3.000000      6.000000   \n",
       "max       51.000000     81.000000    127.000000    127.000000    123.000000   \n",
       "\n",
       "                 65  \n",
       "count  11678.000000  \n",
       "mean       1.501113  \n",
       "std        1.112784  \n",
       "min        0.000000  \n",
       "25%        1.000000  \n",
       "50%        2.000000  \n",
       "75%        2.000000  \n",
       "max        3.000000  \n",
       "\n",
       "[8 rows x 65 columns]"
      ]
     },
     "execution_count": 7,
     "metadata": {},
     "output_type": "execute_result"
    }
   ],
   "source": [
    "df.describe()"
   ]
  },
  {
   "cell_type": "markdown",
   "metadata": {},
   "source": [
    "Almost all columns are numeric except for one, and a few missing values are present. Let's see what is reasonable to fill in, if suitable."
   ]
  },
  {
   "cell_type": "code",
   "execution_count": 8,
   "metadata": {},
   "outputs": [
    {
     "data": {
      "text/html": [
       "<div>\n",
       "<style scoped>\n",
       "    .dataframe tbody tr th:only-of-type {\n",
       "        vertical-align: middle;\n",
       "    }\n",
       "\n",
       "    .dataframe tbody tr th {\n",
       "        vertical-align: top;\n",
       "    }\n",
       "\n",
       "    .dataframe thead th {\n",
       "        text-align: right;\n",
       "    }\n",
       "</style>\n",
       "<table border=\"1\" class=\"dataframe\">\n",
       "  <thead>\n",
       "    <tr style=\"text-align: right;\">\n",
       "      <th></th>\n",
       "      <th>4</th>\n",
       "      <th>5</th>\n",
       "      <th>6</th>\n",
       "      <th>7</th>\n",
       "      <th>14</th>\n",
       "      <th>17</th>\n",
       "      <th>18</th>\n",
       "      <th>19</th>\n",
       "      <th>22</th>\n",
       "    </tr>\n",
       "  </thead>\n",
       "  <tbody>\n",
       "    <tr>\n",
       "      <th>count</th>\n",
       "      <td>11677.000000</td>\n",
       "      <td>11677.000000</td>\n",
       "      <td>11677.000000</td>\n",
       "      <td>11677.000000</td>\n",
       "      <td>11676.000000</td>\n",
       "      <td>11675.000000</td>\n",
       "      <td>11677.000000</td>\n",
       "      <td>11677.000000</td>\n",
       "      <td>11677.000000</td>\n",
       "    </tr>\n",
       "    <tr>\n",
       "      <th>mean</th>\n",
       "      <td>-0.276698</td>\n",
       "      <td>-0.420399</td>\n",
       "      <td>-1.296395</td>\n",
       "      <td>-0.740516</td>\n",
       "      <td>-1.248373</td>\n",
       "      <td>-0.729165</td>\n",
       "      <td>-0.771003</td>\n",
       "      <td>-0.714738</td>\n",
       "      <td>-1.009934</td>\n",
       "    </tr>\n",
       "    <tr>\n",
       "      <th>std</th>\n",
       "      <td>17.914458</td>\n",
       "      <td>25.771968</td>\n",
       "      <td>25.008801</td>\n",
       "      <td>15.377319</td>\n",
       "      <td>25.509962</td>\n",
       "      <td>12.023532</td>\n",
       "      <td>5.026528</td>\n",
       "      <td>7.571328</td>\n",
       "      <td>25.001351</td>\n",
       "    </tr>\n",
       "    <tr>\n",
       "      <th>min</th>\n",
       "      <td>-121.000000</td>\n",
       "      <td>-122.000000</td>\n",
       "      <td>-128.000000</td>\n",
       "      <td>-128.000000</td>\n",
       "      <td>-128.000000</td>\n",
       "      <td>-103.000000</td>\n",
       "      <td>-38.000000</td>\n",
       "      <td>-99.000000</td>\n",
       "      <td>-128.000000</td>\n",
       "    </tr>\n",
       "    <tr>\n",
       "      <th>25%</th>\n",
       "      <td>-10.000000</td>\n",
       "      <td>-15.000000</td>\n",
       "      <td>-6.000000</td>\n",
       "      <td>-8.000000</td>\n",
       "      <td>-6.000000</td>\n",
       "      <td>-4.000000</td>\n",
       "      <td>-3.000000</td>\n",
       "      <td>-4.000000</td>\n",
       "      <td>-5.000000</td>\n",
       "    </tr>\n",
       "    <tr>\n",
       "      <th>50%</th>\n",
       "      <td>0.000000</td>\n",
       "      <td>-1.000000</td>\n",
       "      <td>-1.000000</td>\n",
       "      <td>-1.000000</td>\n",
       "      <td>-1.000000</td>\n",
       "      <td>-1.000000</td>\n",
       "      <td>-1.000000</td>\n",
       "      <td>-1.000000</td>\n",
       "      <td>-1.000000</td>\n",
       "    </tr>\n",
       "    <tr>\n",
       "      <th>75%</th>\n",
       "      <td>10.000000</td>\n",
       "      <td>14.000000</td>\n",
       "      <td>4.000000</td>\n",
       "      <td>6.000000</td>\n",
       "      <td>4.000000</td>\n",
       "      <td>3.000000</td>\n",
       "      <td>2.000000</td>\n",
       "      <td>3.000000</td>\n",
       "      <td>4.000000</td>\n",
       "    </tr>\n",
       "    <tr>\n",
       "      <th>max</th>\n",
       "      <td>92.000000</td>\n",
       "      <td>127.000000</td>\n",
       "      <td>127.000000</td>\n",
       "      <td>126.000000</td>\n",
       "      <td>127.000000</td>\n",
       "      <td>118.000000</td>\n",
       "      <td>32.000000</td>\n",
       "      <td>47.000000</td>\n",
       "      <td>127.000000</td>\n",
       "    </tr>\n",
       "  </tbody>\n",
       "</table>\n",
       "</div>"
      ],
      "text/plain": [
       "                 4             5             6             7             14  \\\n",
       "count  11677.000000  11677.000000  11677.000000  11677.000000  11676.000000   \n",
       "mean      -0.276698     -0.420399     -1.296395     -0.740516     -1.248373   \n",
       "std       17.914458     25.771968     25.008801     15.377319     25.509962   \n",
       "min     -121.000000   -122.000000   -128.000000   -128.000000   -128.000000   \n",
       "25%      -10.000000    -15.000000     -6.000000     -8.000000     -6.000000   \n",
       "50%        0.000000     -1.000000     -1.000000     -1.000000     -1.000000   \n",
       "75%       10.000000     14.000000      4.000000      6.000000      4.000000   \n",
       "max       92.000000    127.000000    127.000000    126.000000    127.000000   \n",
       "\n",
       "                 17            18            19            22  \n",
       "count  11675.000000  11677.000000  11677.000000  11677.000000  \n",
       "mean      -0.729165     -0.771003     -0.714738     -1.009934  \n",
       "std       12.023532      5.026528      7.571328     25.001351  \n",
       "min     -103.000000    -38.000000    -99.000000   -128.000000  \n",
       "25%       -4.000000     -3.000000     -4.000000     -5.000000  \n",
       "50%       -1.000000     -1.000000     -1.000000     -1.000000  \n",
       "75%        3.000000      2.000000      3.000000      4.000000  \n",
       "max      118.000000     32.000000     47.000000    127.000000  "
      ]
     },
     "execution_count": 8,
     "metadata": {},
     "output_type": "execute_result"
    }
   ],
   "source": [
    "# check the columns with missing data\n",
    "df[df.columns[df.isnull().any()]].describe()"
   ]
  },
  {
   "cell_type": "markdown",
   "metadata": {},
   "source": [
    "It seems ok to replace with the mean:"
   ]
  },
  {
   "cell_type": "code",
   "execution_count": 9,
   "metadata": {},
   "outputs": [
    {
     "name": "stdout",
     "output_type": "stream",
     "text": [
      "<class 'pandas.core.frame.DataFrame'>\n",
      "Int64Index: 11678 entries, 0 to 2999\n",
      "Data columns (total 66 columns):\n",
      "0     11678 non-null int64\n",
      "1     11678 non-null int64\n",
      "2     11678 non-null int64\n",
      "3     11678 non-null int64\n",
      "4     11678 non-null float64\n",
      "5     11678 non-null float64\n",
      "6     11678 non-null float64\n",
      "7     11678 non-null float64\n",
      "8     11678 non-null int64\n",
      "9     11678 non-null int64\n",
      "10    11678 non-null int64\n",
      "11    11678 non-null int64\n",
      "12    11678 non-null int64\n",
      "13    11678 non-null int64\n",
      "14    11678 non-null float64\n",
      "15    11678 non-null int64\n",
      "16    11678 non-null int64\n",
      "17    11678 non-null float64\n",
      "18    11678 non-null float64\n",
      "19    11678 non-null float64\n",
      "20    11678 non-null int64\n",
      "21    11678 non-null int64\n",
      "22    11678 non-null float64\n",
      "23    11678 non-null int64\n",
      "24    11678 non-null int64\n",
      "25    11678 non-null int64\n",
      "26    11678 non-null int64\n",
      "27    11678 non-null int64\n",
      "28    11678 non-null int64\n",
      "29    11678 non-null int64\n",
      "30    11678 non-null int64\n",
      "31    11678 non-null int64\n",
      "32    11678 non-null int64\n",
      "33    11678 non-null int64\n",
      "34    11678 non-null int64\n",
      "35    11678 non-null int64\n",
      "36    11678 non-null int64\n",
      "37    11678 non-null int64\n",
      "38    11678 non-null int64\n",
      "39    11678 non-null int64\n",
      "40    11678 non-null int64\n",
      "41    11678 non-null int64\n",
      "42    11678 non-null int64\n",
      "43    11678 non-null int64\n",
      "44    11678 non-null int64\n",
      "45    11678 non-null int64\n",
      "46    11678 non-null int64\n",
      "47    11678 non-null int64\n",
      "48    11678 non-null int64\n",
      "49    11678 non-null int64\n",
      "50    11678 non-null int64\n",
      "51    11678 non-null int64\n",
      "52    11678 non-null int64\n",
      "53    11678 non-null int64\n",
      "54    11678 non-null int64\n",
      "55    11678 non-null int64\n",
      "56    11678 non-null int64\n",
      "57    11678 non-null int64\n",
      "58    11678 non-null int64\n",
      "59    11678 non-null int64\n",
      "60    11678 non-null int64\n",
      "61    11678 non-null int64\n",
      "62    11678 non-null int64\n",
      "63    11678 non-null int64\n",
      "64    11678 non-null object\n",
      "65    11678 non-null int64\n",
      "dtypes: float64(9), int64(56), object(1)\n",
      "memory usage: 6.3+ MB\n"
     ]
    }
   ],
   "source": [
    "# columns with missing values\n",
    "col_missing = df.columns[df.isnull().any()]\n",
    "\n",
    "# replace missing values with the respective mean\n",
    "for i in col_missing:\n",
    "    df[i] = df[i].fillna(np.mean(df[i]))\n",
    "\n",
    "# checking again\n",
    "df.info()"
   ]
  },
  {
   "cell_type": "markdown",
   "metadata": {},
   "source": [
    "Also, I'll transform the categorical variable in order to have only numeric columns."
   ]
  },
  {
   "cell_type": "code",
   "execution_count": 10,
   "metadata": {},
   "outputs": [],
   "source": [
    "df = pd.get_dummies(df)"
   ]
  },
  {
   "cell_type": "markdown",
   "metadata": {},
   "source": [
    "I'll check for any eventual outliers. "
   ]
  },
  {
   "cell_type": "code",
   "execution_count": 11,
   "metadata": {},
   "outputs": [
    {
     "data": {
      "image/png": "[encoded data removed]",
      "text/plain": [
       "<Figure size 432x288 with 1 Axes>"
      ]
     },
     "metadata": {
      "needs_background": "light"
     },
     "output_type": "display_data"
    }
   ],
   "source": [
    "# boxplots\n",
    "sns.boxplot(data=df.iloc[:, :-5], orient='h')  # we don't need to see the dummy and target variables\n",
    "\n",
    "plt.subplots_adjust(left=0, bottom=-5, right=1, top=1, wspace=0.3, hspace=0.5)\n",
    "plt.show()"
   ]
  },
  {
   "cell_type": "markdown",
   "metadata": {},
   "source": [
    "For now I'll accept the data as it is, as without knowing what the variables represent it is a bit risky to make further assumptions and transformations on the data."
   ]
  },
  {
   "cell_type": "markdown",
   "metadata": {},
   "source": [
    "### Exploratory Data Analysis"
   ]
  },
  {
   "cell_type": "markdown",
   "metadata": {},
   "source": [
    "Correlation between variables"
   ]
  },
  {
   "cell_type": "code",
   "execution_count": 12,
   "metadata": {},
   "outputs": [
    {
     "data": {
      "image/png": "[encoded data removed]",
      "text/plain": [
       "<Figure size 720x720 with 4 Axes>"
      ]
     },
     "metadata": {
      "needs_background": "light"
     },
     "output_type": "display_data"
    }
   ],
   "source": [
    "# clustermap\n",
    "sns.clustermap(df.corr(method='pearson'), cmap='RdYlGn', annot=False)\n",
    "\n",
    "plt.subplots_adjust(left=0, bottom=-1, right=2, top=1, wspace=0, hspace=0)\n",
    "plt.show()"
   ]
  },
  {
   "cell_type": "markdown",
   "metadata": {},
   "source": [
    "Variables are not much correlated with each other. Let's see with the target variable"
   ]
  },
  {
   "cell_type": "code",
   "execution_count": 13,
   "metadata": {},
   "outputs": [
    {
     "data": {
      "text/plain": [
       "65      1.000000\n",
       "64_C    0.578268\n",
       "64_B    0.574950\n",
       "64_D    0.198846\n",
       "64_A    0.190747\n",
       "54      0.067801\n",
       "38      0.047782\n",
       "46      0.038663\n",
       "30      0.034110\n",
       "6       0.033380\n",
       "14      0.029706\n",
       "22      0.023814\n",
       "62      0.023325\n",
       "31      0.022513\n",
       "63      0.021517\n",
       "58      0.020134\n",
       "23      0.017847\n",
       "32      0.017808\n",
       "33      0.016711\n",
       "5       0.016670\n",
       "49      0.016436\n",
       "9       0.015693\n",
       "45      0.015100\n",
       "8       0.014257\n",
       "28      0.013718\n",
       "34      0.013283\n",
       "10      0.012613\n",
       "52      0.012590\n",
       "50      0.012366\n",
       "35      0.011330\n",
       "          ...   \n",
       "15      0.009163\n",
       "40      0.008975\n",
       "53      0.008953\n",
       "27      0.008618\n",
       "13      0.008465\n",
       "4       0.008451\n",
       "17      0.008263\n",
       "61      0.007980\n",
       "25      0.007975\n",
       "39      0.007243\n",
       "47      0.007117\n",
       "24      0.006113\n",
       "56      0.006060\n",
       "7       0.005402\n",
       "48      0.005104\n",
       "42      0.005026\n",
       "43      0.004332\n",
       "59      0.004097\n",
       "3       0.004082\n",
       "57      0.003493\n",
       "20      0.003410\n",
       "60      0.002797\n",
       "41      0.002627\n",
       "2       0.002394\n",
       "11      0.001486\n",
       "1       0.001377\n",
       "12      0.000977\n",
       "0       0.000665\n",
       "36      0.000536\n",
       "18      0.000063\n",
       "Name: 65, Length: 69, dtype: float64"
      ]
     },
     "execution_count": 13,
     "metadata": {},
     "output_type": "execute_result"
    }
   ],
   "source": [
    "# absolute values of the correlation with the target variable\n",
    "abs(df.corr(method='pearson')[65]).sort_values(ascending=False) "
   ]
  },
  {
   "cell_type": "markdown",
   "metadata": {},
   "source": [
    "We see that the categorical variable (number 64) is the only one which has significant correlation with the target."
   ]
  },
  {
   "cell_type": "code",
   "execution_count": 14,
   "metadata": {},
   "outputs": [
    {
     "data": {
      "text/plain": [
       "64_B    0.574950\n",
       "64_D    0.198846\n",
       "64_A   -0.190747\n",
       "64_C   -0.578268\n",
       "Name: 65, dtype: float64"
      ]
     },
     "execution_count": 14,
     "metadata": {},
     "output_type": "execute_result"
    }
   ],
   "source": [
    "# Correlation between the target variable and the categorical dummy variables\n",
    "df[['64_A', '64_B', '64_C', '64_D', 65]].corr(method='pearson').iloc[-1, :][:-1].sort_values(ascending=False)"
   ]
  },
  {
   "cell_type": "code",
   "execution_count": 15,
   "metadata": {},
   "outputs": [
    {
     "data": {
      "image/png": "[encoded data removed]",
      "text/plain": [
       "<Figure size 360x360 with 1 Axes>"
      ]
     },
     "metadata": {
      "needs_background": "light"
     },
     "output_type": "display_data"
    }
   ],
   "source": [
    "initial_df = pd.concat([df_train, df_test])\n",
    "\n",
    "sns.catplot(x=64, y=0, data=initial_df)\n",
    "plt.show()"
   ]
  },
  {
   "cell_type": "markdown",
   "metadata": {},
   "source": [
    "Other variables"
   ]
  },
  {
   "cell_type": "markdown",
   "metadata": {},
   "source": [
    "Just to get a sense of the distribution of the variables:"
   ]
  },
  {
   "cell_type": "code",
   "execution_count": 16,
   "metadata": {},
   "outputs": [
    {
     "data": {
      "image/png": "[encoded data removed]",
      "text/plain": [
       "<Figure size 432x288 with 1 Axes>"
      ]
     },
     "metadata": {
      "needs_background": "light"
     },
     "output_type": "display_data"
    }
   ],
   "source": [
    "# ECDF function\n",
    "def ecdf(data):\n",
    "    \"\"\"Compute ECDF for a one-dimensional array of measurements.\"\"\"\n",
    "    x = np.sort(data)\n",
    "    y = np.arange(1, len(data) + 1) / len(data)\n",
    "    return x, y\n",
    "\n",
    "for i in df.iloc[:, :-5].columns:\n",
    "    x, y = ecdf(df[i])\n",
    "    plt.plot(x, y, marker='.', linestyle='none')\n",
    "    \n",
    "plt.subplots_adjust(left=0, bottom=-0.5, right=1.5, top=1, wspace=0, hspace=0)\n",
    "plt.show()"
   ]
  },
  {
   "cell_type": "markdown",
   "metadata": {},
   "source": [
    "Some variables close to a normal distribution, but in general they differ a lot."
   ]
  },
  {
   "cell_type": "markdown",
   "metadata": {},
   "source": [
    "### Modeling"
   ]
  },
  {
   "cell_type": "code",
   "execution_count": 17,
   "metadata": {},
   "outputs": [],
   "source": [
    "from sklearn.preprocessing import scale\n",
    "\n",
    "from sklearn.linear_model import LogisticRegression\n",
    "\n",
    "from sklearn.metrics import confusion_matrix, classification_report, roc_auc_score\n",
    "from sklearn.model_selection import cross_val_score"
   ]
  },
  {
   "cell_type": "code",
   "execution_count": 18,
   "metadata": {},
   "outputs": [],
   "source": [
    "# define seed for comparability\n",
    "SEED = 50"
   ]
  },
  {
   "cell_type": "markdown",
   "metadata": {},
   "source": [
    "Dealing with the missing values"
   ]
  },
  {
   "cell_type": "code",
   "execution_count": 19,
   "metadata": {},
   "outputs": [],
   "source": [
    "# columns with missing values\n",
    "col_missing = df_train.columns[df_train.isnull().any()]\n",
    "\n",
    "# replace missing values with the respective mean\n",
    "for i in col_missing:\n",
    "    df_train[i] = df_train[i].fillna(np.mean(df_train[i]))\n",
    "    \n",
    "##############################################################\n",
    "    \n",
    "# columns with missing values\n",
    "col_missing = df_test.columns[df_test.isnull().any()]\n",
    "\n",
    "# replace missing values with the respective mean\n",
    "for i in col_missing:\n",
    "    df_test[i] = df_test[i].fillna(np.mean(df_test[i]))"
   ]
  },
  {
   "cell_type": "code",
   "execution_count": 20,
   "metadata": {},
   "outputs": [],
   "source": [
    "# build scaled numerical features\n",
    "X_train = scale(pd.get_dummies(df_train.drop(65, axis=1)).astype(float))\n",
    "X_test = scale(pd.get_dummies(df_test.drop(65, axis=1)).astype(float))\n",
    "\n",
    "# target\n",
    "y_train = df_train[65]\n",
    "y_test = df_test[65]"
   ]
  },
  {
   "cell_type": "markdown",
   "metadata": {},
   "source": [
    "I will first run some models with default parameters."
   ]
  },
  {
   "cell_type": "markdown",
   "metadata": {},
   "source": [
    "#### Logistic Regression"
   ]
  },
  {
   "cell_type": "code",
   "execution_count": 21,
   "metadata": {},
   "outputs": [],
   "source": [
    "# Instatiate logreg\n",
    "logreg = LogisticRegression(solver='lbfgs', multi_class='auto', random_state=SEED)\n",
    "\n",
    "# Fit logreg to the training set\n",
    "logreg.fit(X_train, y_train)\n",
    "\n",
    "# predict\n",
    "y_pred = logreg.predict(X_test)"
   ]
  },
  {
   "cell_type": "code",
   "execution_count": 22,
   "metadata": {},
   "outputs": [
    {
     "name": "stdout",
     "output_type": "stream",
     "text": [
      "Score: 0.24533333333333332\n",
      "\n",
      "Confusion matrix:\n",
      " [[183 185 173 171]\n",
      " [213 197 169 198]\n",
      " [205 189 181 202]\n",
      " [185 192 182 175]]\n",
      "\n",
      "Classification report:\n",
      "               precision    recall  f1-score   support\n",
      "\n",
      "           0       0.23      0.26      0.24       712\n",
      "           1       0.26      0.25      0.26       777\n",
      "           2       0.26      0.23      0.24       777\n",
      "           3       0.23      0.24      0.24       734\n",
      "\n",
      "   micro avg       0.25      0.25      0.25      3000\n",
      "   macro avg       0.25      0.25      0.25      3000\n",
      "weighted avg       0.25      0.25      0.25      3000\n",
      "\n"
     ]
    }
   ],
   "source": [
    "model = logreg\n",
    "model_name = 'LogisticRegression'\n",
    "\n",
    "# score\n",
    "print(\"Score:\", model.score(X_test, y_test))\n",
    "\n",
    "# Confusion matrix\n",
    "print(\"\\nConfusion matrix:\\n\", confusion_matrix(y_test, y_pred))\n",
    "\n",
    "# Classification report\n",
    "print(\"\\nClassification report:\\n\", classification_report(y_test, y_pred))"
   ]
  },
  {
   "cell_type": "markdown",
   "metadata": {},
   "source": [
    "#### KNeighborsClassifier"
   ]
  },
  {
   "cell_type": "code",
   "execution_count": 23,
   "metadata": {},
   "outputs": [],
   "source": [
    "from sklearn.neighbors import KNeighborsClassifier "
   ]
  },
  {
   "cell_type": "code",
   "execution_count": 24,
   "metadata": {},
   "outputs": [],
   "source": [
    "# k-NN classifier \n",
    "knn = KNeighborsClassifier()\n",
    "\n",
    "# fit\n",
    "knn.fit(X_train, y_train)\n",
    "\n",
    "# Predict the labels for the training data X\n",
    "y_pred = knn.predict(X_test)"
   ]
  },
  {
   "cell_type": "code",
   "execution_count": 25,
   "metadata": {},
   "outputs": [
    {
     "name": "stdout",
     "output_type": "stream",
     "text": [
      "Score: 0.5076666666666667\n",
      "\n",
      "Confusion matrix:\n",
      " [[446 106  66  94]\n",
      " [ 57 446  91 183]\n",
      " [ 85 207 302 183]\n",
      " [ 88 193 124 329]]\n",
      "\n",
      "Classification report:\n",
      "               precision    recall  f1-score   support\n",
      "\n",
      "           0       0.66      0.63      0.64       712\n",
      "           1       0.47      0.57      0.52       777\n",
      "           2       0.52      0.39      0.44       777\n",
      "           3       0.42      0.45      0.43       734\n",
      "\n",
      "   micro avg       0.51      0.51      0.51      3000\n",
      "   macro avg       0.52      0.51      0.51      3000\n",
      "weighted avg       0.51      0.51      0.51      3000\n",
      "\n"
     ]
    }
   ],
   "source": [
    "model = knn\n",
    "model_name = 'KNeighborsClassifier'\n",
    "\n",
    "# score\n",
    "print(\"Score:\", model.score(X_test, y_test))\n",
    "\n",
    "# Confusion matrix\n",
    "print(\"\\nConfusion matrix:\\n\", confusion_matrix(y_test, y_pred))\n",
    "\n",
    "# Classification report\n",
    "print(\"\\nClassification report:\\n\", classification_report(y_test, y_pred))"
   ]
  },
  {
   "cell_type": "markdown",
   "metadata": {},
   "source": [
    "#### DecisionTreeClassifier"
   ]
  },
  {
   "cell_type": "code",
   "execution_count": 26,
   "metadata": {},
   "outputs": [],
   "source": [
    "from sklearn.tree import DecisionTreeClassifier\n",
    "\n",
    "# Instantiate dt\n",
    "dt = DecisionTreeClassifier(random_state=SEED)\n",
    "\n",
    "# Fit dt to the training set\n",
    "dt.fit(X_train, y_train) \n",
    "\n",
    "# Predict \n",
    "y_pred = dt.predict(X_test)"
   ]
  },
  {
   "cell_type": "code",
   "execution_count": 27,
   "metadata": {},
   "outputs": [
    {
     "name": "stdout",
     "output_type": "stream",
     "text": [
      "Score: 0.24533333333333332\n",
      "\n",
      "Confusion matrix:\n",
      " [[183 185 173 171]\n",
      " [213 197 169 198]\n",
      " [205 189 181 202]\n",
      " [185 192 182 175]]\n",
      "\n",
      "Classification report:\n",
      "               precision    recall  f1-score   support\n",
      "\n",
      "           0       0.23      0.26      0.24       712\n",
      "           1       0.26      0.25      0.26       777\n",
      "           2       0.26      0.23      0.24       777\n",
      "           3       0.23      0.24      0.24       734\n",
      "\n",
      "   micro avg       0.25      0.25      0.25      3000\n",
      "   macro avg       0.25      0.25      0.25      3000\n",
      "weighted avg       0.25      0.25      0.25      3000\n",
      "\n"
     ]
    }
   ],
   "source": [
    "model = dt\n",
    "model_name = 'DecisionTreeClassifier'\n",
    "\n",
    "# score\n",
    "print(\"Score:\", model.score(X_test, y_test))\n",
    "\n",
    "# Confusion matrix\n",
    "print(\"\\nConfusion matrix:\\n\", confusion_matrix(y_test, y_pred))\n",
    "\n",
    "# Classification report\n",
    "print(\"\\nClassification report:\\n\", classification_report(y_test, y_pred))"
   ]
  },
  {
   "cell_type": "markdown",
   "metadata": {},
   "source": [
    "#### AdaBoostClassifier"
   ]
  },
  {
   "cell_type": "code",
   "execution_count": 28,
   "metadata": {},
   "outputs": [],
   "source": [
    "# Import AdaBoostClassifier\n",
    "from sklearn.ensemble import AdaBoostClassifier\n",
    "\n",
    "# Instantiate ada\n",
    "ada = AdaBoostClassifier(base_estimator=dt, random_state=SEED)\n",
    "\n",
    "# Fit ada to the training set\n",
    "ada.fit(X_train, y_train)\n",
    "\n",
    "# Predict test set labels\n",
    "y_pred = ada.predict(X_test)"
   ]
  },
  {
   "cell_type": "code",
   "execution_count": 29,
   "metadata": {},
   "outputs": [
    {
     "name": "stdout",
     "output_type": "stream",
     "text": [
      "Score: 0.24533333333333332\n",
      "\n",
      "Confusion matrix:\n",
      " [[183 185 173 171]\n",
      " [213 197 169 198]\n",
      " [205 189 181 202]\n",
      " [185 192 182 175]]\n",
      "\n",
      "Classification report:\n",
      "               precision    recall  f1-score   support\n",
      "\n",
      "           0       0.23      0.26      0.24       712\n",
      "           1       0.26      0.25      0.26       777\n",
      "           2       0.26      0.23      0.24       777\n",
      "           3       0.23      0.24      0.24       734\n",
      "\n",
      "   micro avg       0.25      0.25      0.25      3000\n",
      "   macro avg       0.25      0.25      0.25      3000\n",
      "weighted avg       0.25      0.25      0.25      3000\n",
      "\n"
     ]
    }
   ],
   "source": [
    "model = ada\n",
    "model_name = 'AdaBoostClassifier'\n",
    "\n",
    "# score\n",
    "print(\"Score:\", model.score(X_test, y_test))\n",
    "\n",
    "# Confusion matrix\n",
    "print(\"\\nConfusion matrix:\\n\", confusion_matrix(y_test, y_pred))\n",
    "\n",
    "# Classification report\n",
    "print(\"\\nClassification report:\\n\", classification_report(y_test, y_pred))"
   ]
  },
  {
   "cell_type": "markdown",
   "metadata": {},
   "source": [
    "#### RandomForestClassifier"
   ]
  },
  {
   "cell_type": "code",
   "execution_count": 30,
   "metadata": {},
   "outputs": [],
   "source": [
    "# Import RandomForestClassifier\n",
    "from sklearn.ensemble import RandomForestClassifier\n",
    "\n",
    "# Instantiate ada\n",
    "rf = RandomForestClassifier(n_estimators=10, random_state=SEED)\n",
    "\n",
    "# Fit ada to the training set\n",
    "rf.fit(X_train, y_train)\n",
    "\n",
    "# Predict test set labels\n",
    "y_pred = rf.predict(X_test)"
   ]
  },
  {
   "cell_type": "code",
   "execution_count": 31,
   "metadata": {},
   "outputs": [
    {
     "name": "stdout",
     "output_type": "stream",
     "text": [
      "Score: 0.251\n",
      "\n",
      "Confusion matrix:\n",
      " [[200 166 174 172]\n",
      " [213 197 169 198]\n",
      " [205 189 181 202]\n",
      " [186 191 182 175]]\n",
      "\n",
      "Classification report:\n",
      "               precision    recall  f1-score   support\n",
      "\n",
      "           0       0.25      0.28      0.26       712\n",
      "           1       0.27      0.25      0.26       777\n",
      "           2       0.26      0.23      0.24       777\n",
      "           3       0.23      0.24      0.24       734\n",
      "\n",
      "   micro avg       0.25      0.25      0.25      3000\n",
      "   macro avg       0.25      0.25      0.25      3000\n",
      "weighted avg       0.25      0.25      0.25      3000\n",
      "\n"
     ]
    }
   ],
   "source": [
    "model = rf\n",
    "model_name = 'RandomForestClassifier'\n",
    "\n",
    "# score\n",
    "print(\"Score:\", model.score(X_test, y_test))\n",
    "\n",
    "# Confusion matrix\n",
    "print(\"\\nConfusion matrix:\\n\", confusion_matrix(y_test, y_pred))\n",
    "\n",
    "# Classification report\n",
    "print(\"\\nClassification report:\\n\", classification_report(y_test, y_pred))"
   ]
  },
  {
   "cell_type": "code",
   "execution_count": 32,
   "metadata": {},
   "outputs": [
    {
     "data": {
      "image/png": "[encoded data removed]",
      "text/plain": [
       "<Figure size 432x288 with 1 Axes>"
      ]
     },
     "metadata": {
      "needs_background": "light"
     },
     "output_type": "display_data"
    }
   ],
   "source": [
    "# Create a pd.Series of features importances\n",
    "importances = pd.Series(data=model.feature_importances_, index=df.drop(65, 1).columns)\n",
    "\n",
    "# Sort importances\n",
    "importances_sorted = importances.sort_values()\n",
    "\n",
    "# Draw a horizontal barplot of importances_sorted\n",
    "importances_sorted.tail(15).plot(kind='barh', color='lightgreen')\n",
    "plt.title('Features Importances: {}'.format(model_name), fontsize=18)\n",
    "plt.subplots_adjust(left=0, bottom=0, right=1.5, top=1, wspace=0, hspace=0)\n",
    "plt.show()"
   ]
  },
  {
   "cell_type": "markdown",
   "metadata": {},
   "source": [
    "Again, looking at the feature importances of the Random Forest algorithm, we confirm the relative importance of the categorical variable when comparing to the remaining numerical variables, which have a minimal effect."
   ]
  },
  {
   "cell_type": "markdown",
   "metadata": {},
   "source": [
    "#### LinearSVC"
   ]
  },
  {
   "cell_type": "code",
   "execution_count": 33,
   "metadata": {},
   "outputs": [
    {
     "name": "stderr",
     "output_type": "stream",
     "text": [
      "C:\\Users\\Admin\\Anaconda3\\lib\\site-packages\\sklearn\\svm\\base.py:922: ConvergenceWarning: Liblinear failed to converge, increase the number of iterations.\n",
      "  \"the number of iterations.\", ConvergenceWarning)\n"
     ]
    }
   ],
   "source": [
    "from sklearn.svm import LinearSVC\n",
    "\n",
    "# Instantiate\n",
    "svm = LinearSVC()\n",
    "\n",
    "# fit to the training set\n",
    "svm.fit(X_train, y_train)\n",
    "\n",
    "# Predict test set labels\n",
    "y_pred = svm.predict(X_test)"
   ]
  },
  {
   "cell_type": "code",
   "execution_count": 34,
   "metadata": {},
   "outputs": [
    {
     "name": "stdout",
     "output_type": "stream",
     "text": [
      "Score: 0.24533333333333332\n",
      "\n",
      "Confusion matrix:\n",
      " [[183 185 173 171]\n",
      " [213 197 169 198]\n",
      " [205 189 181 202]\n",
      " [185 192 182 175]]\n",
      "\n",
      "Classification report:\n",
      "               precision    recall  f1-score   support\n",
      "\n",
      "           0       0.23      0.26      0.24       712\n",
      "           1       0.26      0.25      0.26       777\n",
      "           2       0.26      0.23      0.24       777\n",
      "           3       0.23      0.24      0.24       734\n",
      "\n",
      "   micro avg       0.25      0.25      0.25      3000\n",
      "   macro avg       0.25      0.25      0.25      3000\n",
      "weighted avg       0.25      0.25      0.25      3000\n",
      "\n"
     ]
    }
   ],
   "source": [
    "model = svm\n",
    "model_name = 'LinearSVC'\n",
    "\n",
    "# score\n",
    "print(\"Score:\", model.score(X_test, y_test))\n",
    "\n",
    "# Confusion matrix\n",
    "print(\"\\nConfusion matrix:\\n\", confusion_matrix(y_test, y_pred))\n",
    "\n",
    "# Classification report\n",
    "print(\"\\nClassification report:\\n\", classification_report(y_test, y_pred))"
   ]
  },
  {
   "cell_type": "markdown",
   "metadata": {},
   "source": [
    "#### SGDClassifier"
   ]
  },
  {
   "cell_type": "code",
   "execution_count": 35,
   "metadata": {},
   "outputs": [
    {
     "name": "stderr",
     "output_type": "stream",
     "text": [
      "C:\\Users\\Admin\\Anaconda3\\lib\\site-packages\\sklearn\\linear_model\\stochastic_gradient.py:166: FutureWarning: max_iter and tol parameters have been added in SGDClassifier in 0.19. If both are left unset, they default to max_iter=5 and tol=None. If tol is not None, max_iter defaults to max_iter=1000. From 0.21, default max_iter will be 1000, and default tol will be 1e-3.\n",
      "  FutureWarning)\n"
     ]
    }
   ],
   "source": [
    "from sklearn.linear_model import SGDClassifier\n",
    "\n",
    "# Instantiate\n",
    "linear_classifier = SGDClassifier(random_state=SEED)\n",
    "\n",
    "# fit to the training set\n",
    "linear_classifier.fit(X_train, y_train)\n",
    "\n",
    "# Predict test set labels\n",
    "y_pred = linear_classifier.predict(X_test)"
   ]
  },
  {
   "cell_type": "code",
   "execution_count": 36,
   "metadata": {},
   "outputs": [
    {
     "name": "stdout",
     "output_type": "stream",
     "text": [
      "Score: 0.24533333333333332\n",
      "\n",
      "Confusion matrix:\n",
      " [[183 185 173 171]\n",
      " [213 197 169 198]\n",
      " [205 189 181 202]\n",
      " [185 192 182 175]]\n",
      "\n",
      "Classification report:\n",
      "               precision    recall  f1-score   support\n",
      "\n",
      "           0       0.23      0.26      0.24       712\n",
      "           1       0.26      0.25      0.26       777\n",
      "           2       0.26      0.23      0.24       777\n",
      "           3       0.23      0.24      0.24       734\n",
      "\n",
      "   micro avg       0.25      0.25      0.25      3000\n",
      "   macro avg       0.25      0.25      0.25      3000\n",
      "weighted avg       0.25      0.25      0.25      3000\n",
      "\n"
     ]
    }
   ],
   "source": [
    "model = linear_classifier\n",
    "model_name = 'SGDClassifier'\n",
    "\n",
    "# score\n",
    "print(\"Score:\", model.score(X_test, y_test))\n",
    "\n",
    "# Confusion matrix\n",
    "print(\"\\nConfusion matrix:\\n\", confusion_matrix(y_test, y_pred))\n",
    "\n",
    "# Classification report\n",
    "print(\"\\nClassification report:\\n\", classification_report(y_test, y_pred))"
   ]
  },
  {
   "cell_type": "markdown",
   "metadata": {},
   "source": [
    "#### Support Vector Machine"
   ]
  },
  {
   "cell_type": "code",
   "execution_count": 37,
   "metadata": {},
   "outputs": [],
   "source": [
    "from sklearn.svm import SVC\n",
    "\n",
    "# Instantiate the SVC classifier: clf\n",
    "clf = SVC(random_state=SEED, C=1)\n",
    "\n",
    "# fit to the training set\n",
    "clf.fit(X_train, y_train)\n",
    "\n",
    "# Predict test set labels\n",
    "y_pred = clf.predict(X_test)"
   ]
  },
  {
   "cell_type": "code",
   "execution_count": 38,
   "metadata": {},
   "outputs": [
    {
     "name": "stdout",
     "output_type": "stream",
     "text": [
      "Score: 0.33866666666666667\n",
      "\n",
      "Confusion matrix:\n",
      " [[380 103 118 111]\n",
      " [213 197 169 198]\n",
      " [196 150 246 185]\n",
      " [183 186 172 193]]\n",
      "\n",
      "Classification report:\n",
      "               precision    recall  f1-score   support\n",
      "\n",
      "           0       0.39      0.53      0.45       712\n",
      "           1       0.31      0.25      0.28       777\n",
      "           2       0.35      0.32      0.33       777\n",
      "           3       0.28      0.26      0.27       734\n",
      "\n",
      "   micro avg       0.34      0.34      0.34      3000\n",
      "   macro avg       0.33      0.34      0.33      3000\n",
      "weighted avg       0.33      0.34      0.33      3000\n",
      "\n"
     ]
    }
   ],
   "source": [
    "model = clf\n",
    "model_name = 'SVC'\n",
    "\n",
    "# score\n",
    "print(\"Score:\", model.score(X_test, y_test))\n",
    "\n",
    "# Confusion matrix\n",
    "print(\"\\nConfusion matrix:\\n\", confusion_matrix(y_test, y_pred))\n",
    "\n",
    "# Classification report\n",
    "print(\"\\nClassification report:\\n\", classification_report(y_test, y_pred))"
   ]
  },
  {
   "cell_type": "markdown",
   "metadata": {},
   "source": [
    "Considering default parameterization, the model with the best performance was by far KNN, even with not so great results."
   ]
  },
  {
   "cell_type": "code",
   "execution_count": 39,
   "metadata": {},
   "outputs": [
    {
     "name": "stdout",
     "output_type": "stream",
     "text": [
      "Score: 0.5076666666666667\n",
      "\n",
      "Confusion matrix:\n",
      " [[446 106  66  94]\n",
      " [ 57 446  91 183]\n",
      " [ 85 207 302 183]\n",
      " [ 88 193 124 329]]\n",
      "\n",
      "Classification report:\n",
      "               precision    recall  f1-score   support\n",
      "\n",
      "           0       0.66      0.63      0.64       712\n",
      "           1       0.47      0.57      0.52       777\n",
      "           2       0.52      0.39      0.44       777\n",
      "           3       0.42      0.45      0.43       734\n",
      "\n",
      "   micro avg       0.51      0.51      0.51      3000\n",
      "   macro avg       0.52      0.51      0.51      3000\n",
      "weighted avg       0.51      0.51      0.51      3000\n",
      "\n"
     ]
    }
   ],
   "source": [
    "# k-NN classifier \n",
    "knn = KNeighborsClassifier()\n",
    "\n",
    "# fit\n",
    "knn.fit(X_train, y_train)\n",
    "\n",
    "# Predict the labels for the training data X\n",
    "y_pred = knn.predict(X_test)\n",
    "\n",
    "model = knn\n",
    "model_name = 'KNeighborsClassifier'\n",
    "\n",
    "# score\n",
    "print(\"Score:\", model.score(X_test, y_test))\n",
    "\n",
    "# Confusion matrix\n",
    "print(\"\\nConfusion matrix:\\n\", confusion_matrix(y_test, y_pred))\n",
    "\n",
    "# Classification report\n",
    "print(\"\\nClassification report:\\n\", classification_report(y_test, y_pred))"
   ]
  },
  {
   "cell_type": "markdown",
   "metadata": {},
   "source": [
    "### Feature Selection"
   ]
  },
  {
   "cell_type": "markdown",
   "metadata": {},
   "source": [
    "Let's try to use a model with the most important variables."
   ]
  },
  {
   "cell_type": "code",
   "execution_count": 40,
   "metadata": {},
   "outputs": [
    {
     "name": "stdout",
     "output_type": "stream",
     "text": [
      "Fitting estimator with 68 features.\n",
      "Fitting estimator with 66 features.\n",
      "Fitting estimator with 64 features.\n",
      "Fitting estimator with 62 features.\n",
      "Fitting estimator with 60 features.\n",
      "Fitting estimator with 58 features.\n",
      "Fitting estimator with 56 features.\n",
      "Fitting estimator with 54 features.\n",
      "Fitting estimator with 52 features.\n",
      "Fitting estimator with 50 features.\n",
      "Fitting estimator with 48 features.\n",
      "Fitting estimator with 46 features.\n",
      "Fitting estimator with 44 features.\n",
      "Fitting estimator with 42 features.\n",
      "Fitting estimator with 40 features.\n",
      "Fitting estimator with 38 features.\n",
      "Fitting estimator with 36 features.\n",
      "Fitting estimator with 34 features.\n",
      "Fitting estimator with 32 features.\n",
      "Fitting estimator with 30 features.\n",
      "Fitting estimator with 28 features.\n",
      "Fitting estimator with 26 features.\n",
      "Fitting estimator with 24 features.\n",
      "Fitting estimator with 22 features.\n",
      "Fitting estimator with 20 features.\n",
      "Fitting estimator with 18 features.\n",
      "Fitting estimator with 16 features.\n",
      "Fitting estimator with 14 features.\n",
      "Fitting estimator with 12 features.\n",
      "Fitting estimator with 10 features.\n",
      "Fitting estimator with 8 features.\n",
      "Fitting estimator with 6 features.\n",
      "\n",
      " With 4 features, new score using RFE: 0.24533333333333332\n"
     ]
    }
   ],
   "source": [
    "# feature selection with RFE and RandomForestClassifier\n",
    "from sklearn.ensemble import RandomForestClassifier\n",
    "from sklearn.feature_selection import RFE\n",
    "from sklearn.metrics import accuracy_score\n",
    "\n",
    "steps = 2\n",
    "n_features = 4\n",
    "\n",
    "# Recursive Feature Elimination\n",
    "rfe = RFE(estimator=RandomForestClassifier(n_estimators=10, random_state=SEED), \n",
    "          n_features_to_select=n_features, \n",
    "          step=steps,\n",
    "          verbose=1)\n",
    "\n",
    "# fit\n",
    "rfe.fit(X_train, y_train)\n",
    "\n",
    "# predict\n",
    "y_pred = rfe.predict(X_test)\n",
    "\n",
    "print(\"\\n With {} features, new score using RFE: {}\".format(n_features, accuracy_score(y_test, y_pred)))"
   ]
  },
  {
   "cell_type": "code",
   "execution_count": 41,
   "metadata": {},
   "outputs": [
    {
     "name": "stdout",
     "output_type": "stream",
     "text": [
      "{0: 27, 1: 8, 2: 26, 3: 17, 4: 18, 5: 7, 6: 5, 7: 33, 8: 17, 9: 6, 10: 28, 11: 18, 12: 16, 13: 9, 14: 3, 15: 28, 16: 12, 17: 11, 18: 23, 19: 24, 20: 10, 21: 15, 22: 4, 23: 20, 24: 22, 25: 11, 26: 22, 27: 21, 28: 16, 29: 9, 30: 13, 31: 30, 32: 31, 33: 10, 34: 26, 35: 25, 36: 33, 37: 12, 38: 6, 39: 24, 40: 32, 41: 3, 42: 32, 43: 14, 44: 20, 45: 7, 46: 5, 47: 27, 48: 15, 49: 4, 50: 29, 51: 21, 52: 19, 53: 13, 54: 2, 55: 23, 56: 30, 57: 14, 58: 31, 59: 29, 60: 19, 61: 8, 62: 2, 63: 25, '64_A': 1, '64_B': 1, '64_C': 1, '64_D': 1}\n"
     ]
    }
   ],
   "source": [
    "print(dict(zip(pd.get_dummies(df_train.drop(65, 1)).columns, rfe.ranking_)))"
   ]
  },
  {
   "cell_type": "markdown",
   "metadata": {},
   "source": [
    "Let's try:"
   ]
  },
  {
   "cell_type": "code",
   "execution_count": 42,
   "metadata": {},
   "outputs": [
    {
     "data": {
      "text/plain": [
       "[14, 41, 54, 62, '64_A', '64_B', '64_C', '64_D']"
      ]
     },
     "execution_count": 42,
     "metadata": {},
     "output_type": "execute_result"
    }
   ],
   "source": [
    "# Defining most important variables - until ranking=x\n",
    "ranking_x = 4\n",
    "\n",
    "imp_variables = pd.get_dummies(df_train.drop(65, 1)).columns[rfe.ranking_ < ranking_x].tolist()\n",
    "imp_variables"
   ]
  },
  {
   "cell_type": "code",
   "execution_count": 43,
   "metadata": {},
   "outputs": [
    {
     "data": {
      "text/plain": [
       "[14, 41, 54, 62, 64]"
      ]
     },
     "execution_count": 43,
     "metadata": {},
     "output_type": "execute_result"
    }
   ],
   "source": [
    "# replacing 64\n",
    "imp_variables.pop(-1)\n",
    "imp_variables.pop(-1)\n",
    "imp_variables.pop(-1)\n",
    "imp_variables.pop(-1)\n",
    "imp_variables.append(64)\n",
    "imp_variables"
   ]
  },
  {
   "cell_type": "markdown",
   "metadata": {},
   "source": [
    "Let's try to change ranking_x until we have the best score"
   ]
  },
  {
   "cell_type": "code",
   "execution_count": 44,
   "metadata": {},
   "outputs": [
    {
     "name": "stdout",
     "output_type": "stream",
     "text": [
      "With a RFE ranking until 2, the score is 0.24533333333333332:\n",
      "With a RFE ranking until 3, the score is 0.4676666666666667:\n",
      "With a RFE ranking until 4, the score is 0.78:\n",
      "With a RFE ranking until 5, the score is 0.8376666666666667:\n",
      "With a RFE ranking until 6, the score is 0.8506666666666667:\n",
      "With a RFE ranking until 7, the score is 0.8653333333333333:\n",
      "With a RFE ranking until 8, the score is 0.8166666666666667:\n",
      "With a RFE ranking until 9, the score is 0.8086666666666666:\n",
      "With a RFE ranking until 10, the score is 0.768:\n",
      "With a RFE ranking until 11, the score is 0.77:\n",
      "With a RFE ranking until 12, the score is 0.7746666666666666:\n",
      "With a RFE ranking until 13, the score is 0.7653333333333333:\n",
      "With a RFE ranking until 14, the score is 0.7666666666666667:\n",
      "With a RFE ranking until 15, the score is 0.7643333333333333:\n",
      "With a RFE ranking until 16, the score is 0.7673333333333333:\n",
      "With a RFE ranking until 17, the score is 0.7696666666666667:\n",
      "With a RFE ranking until 18, the score is 0.7626666666666667:\n",
      "With a RFE ranking until 19, the score is 0.7703333333333333:\n",
      "With a RFE ranking until 20, the score is 0.7783333333333333:\n",
      "With a RFE ranking until 21, the score is 0.783:\n",
      "With a RFE ranking until 22, the score is 0.7823333333333333:\n",
      "With a RFE ranking until 23, the score is 0.7863333333333333:\n",
      "With a RFE ranking until 24, the score is 0.784:\n",
      "With a RFE ranking until 25, the score is 0.772:\n",
      "With a RFE ranking until 26, the score is 0.768:\n",
      "With a RFE ranking until 27, the score is 0.7623333333333333:\n",
      "With a RFE ranking until 28, the score is 0.768:\n",
      "With a RFE ranking until 29, the score is 0.762:\n"
     ]
    }
   ],
   "source": [
    "# considering the range\n",
    "\n",
    "for i in range(2, 30):\n",
    "    \n",
    "    ranking_x = i\n",
    "    \n",
    "    imp_variables = pd.get_dummies(df_train.drop(65, 1)).columns[rfe.ranking_ < ranking_x].tolist()\n",
    "    imp_variables.pop(-1)\n",
    "    imp_variables.pop(-1)\n",
    "    imp_variables.pop(-1)\n",
    "    imp_variables.pop(-1)\n",
    "    imp_variables.append(64)\n",
    "    \n",
    "    # New model\n",
    "    X_train_new = pd.get_dummies(df_train[imp_variables]).astype(float).values\n",
    "    X_test_new = pd.get_dummies(df_test[imp_variables]).astype(float).values\n",
    "    \n",
    "    # k-NN classifier \n",
    "    knn = KNeighborsClassifier()\n",
    "    \n",
    "    model = knn\n",
    "    model_name = 'KNeighborsClassifier'\n",
    "\n",
    "    # fit\n",
    "    knn.fit(X_train_new, y_train)\n",
    "\n",
    "    # Predict the labels for the training data X\n",
    "    y_pred = knn.predict(X_test_new)\n",
    "\n",
    "    # score\n",
    "    print(\"With a RFE ranking until {}, the score is {}:\".format(ranking_x, model.score(X_test_new, y_test)))\n",
    "    "
   ]
  },
  {
   "cell_type": "markdown",
   "metadata": {},
   "source": [
    "7 seems to be the optimal number:"
   ]
  },
  {
   "cell_type": "code",
   "execution_count": 45,
   "metadata": {},
   "outputs": [
    {
     "name": "stdout",
     "output_type": "stream",
     "text": [
      "Important variables: [6, 9, 14, 22, 38, 41, 46, 49, 54, 62, 64]\n",
      "\n",
      "With a RFE ranking until 7, the score is 0.8653333333333333:\n",
      "\n",
      "Confusion matrix:\n",
      " [[636   0  16  60]\n",
      " [  0 753   6  18]\n",
      " [  4  98 598  77]\n",
      " [  6 103  16 609]]\n",
      "\n",
      "Classification report:\n",
      "               precision    recall  f1-score   support\n",
      "\n",
      "           0       0.98      0.89      0.94       712\n",
      "           1       0.79      0.97      0.87       777\n",
      "           2       0.94      0.77      0.85       777\n",
      "           3       0.80      0.83      0.81       734\n",
      "\n",
      "   micro avg       0.87      0.87      0.87      3000\n",
      "   macro avg       0.88      0.87      0.87      3000\n",
      "weighted avg       0.88      0.87      0.87      3000\n",
      "\n"
     ]
    }
   ],
   "source": [
    "# optimal RFE ranking\n",
    "ranking_x = 7\n",
    "    \n",
    "imp_variables = pd.get_dummies(df_train.drop(65, 1)).columns[rfe.ranking_ < ranking_x].tolist()\n",
    "imp_variables.pop(-1)\n",
    "imp_variables.pop(-1)\n",
    "imp_variables.pop(-1)\n",
    "imp_variables.pop(-1)\n",
    "imp_variables.append(64)\n",
    "\n",
    "print(\"Important variables: {}\\n\".format(imp_variables))\n",
    "  \n",
    "# New model\n",
    "X_train_new = pd.get_dummies(df_train[imp_variables]).astype(float).values\n",
    "X_test_new = pd.get_dummies(df_test[imp_variables]).astype(float).values\n",
    "   \n",
    "# k-NN classifier \n",
    "knn = KNeighborsClassifier()\n",
    "    \n",
    "model = knn\n",
    "model_name = 'KNeighborsClassifier'\n",
    "\n",
    "# fit\n",
    "knn.fit(X_train_new, y_train)\n",
    "\n",
    "# Predict the labels for the training data X\n",
    "y_pred = knn.predict(X_test_new)\n",
    "\n",
    "# score\n",
    "print(\"With a RFE ranking until {}, the score is {}:\".format(ranking_x, model.score(X_test_new, y_test)))\n",
    "\n",
    "# Confusion matrix\n",
    "print(\"\\nConfusion matrix:\\n\", confusion_matrix(y_test, y_pred))\n",
    "\n",
    "# Classification report\n",
    "print(\"\\nClassification report:\\n\", classification_report(y_test, y_pred))"
   ]
  },
  {
   "cell_type": "markdown",
   "metadata": {},
   "source": [
    "### Hyperparameter Tuning"
   ]
  },
  {
   "cell_type": "markdown",
   "metadata": {},
   "source": [
    "Assuming now this model, I'll try to further tune the KNN parameters"
   ]
  },
  {
   "cell_type": "code",
   "execution_count": 46,
   "metadata": {},
   "outputs": [
    {
     "name": "stdout",
     "output_type": "stream",
     "text": [
      "Best hyperparameters:\n",
      " {'leaf_size': 30, 'n_neighbors': 5, 'p': 1, 'weights': 'distance'}\n"
     ]
    }
   ],
   "source": [
    "from sklearn.model_selection import GridSearchCV\n",
    "\n",
    "# model\n",
    "knn = KNeighborsClassifier()\n",
    "\n",
    "# Set the hyperparameter grid of knn\n",
    "params_knn = {'n_neighbors': [2, 5, 7],\n",
    "              'weights': ['uniform', 'distance'],\n",
    "              'leaf_size': [30, 20, 40],\n",
    "              'p': [2, 1]             \n",
    "             }\n",
    "\n",
    "# GridSearchCV\n",
    "grid_knn = GridSearchCV(estimator=knn, param_grid=params_knn, cv=3, n_jobs=-1)\n",
    "\n",
    "# Fit to the training set\n",
    "grid_knn.fit(X_train_new, y_train)      \n",
    "\n",
    "# Extract best hyperparameters\n",
    "best_hyperparams = grid_knn.best_params_\n",
    "print('Best hyperparameters:\\n', best_hyperparams)"
   ]
  },
  {
   "cell_type": "markdown",
   "metadata": {},
   "source": [
    "#### Model performance"
   ]
  },
  {
   "cell_type": "code",
   "execution_count": 47,
   "metadata": {},
   "outputs": [
    {
     "name": "stdout",
     "output_type": "stream",
     "text": [
      "Score: 0.9996666666666667\n",
      "\n",
      "Confusion matrix:\n",
      " [[712   0   0   0]\n",
      " [  0 777   0   0]\n",
      " [  0   0 777   0]\n",
      " [  0   1   0 733]]\n",
      "\n",
      "Classification report:\n",
      "               precision    recall  f1-score   support\n",
      "\n",
      "           0       1.00      1.00      1.00       712\n",
      "           1       1.00      1.00      1.00       777\n",
      "           2       1.00      1.00      1.00       777\n",
      "           3       1.00      1.00      1.00       734\n",
      "\n",
      "   micro avg       1.00      1.00      1.00      3000\n",
      "   macro avg       1.00      1.00      1.00      3000\n",
      "weighted avg       1.00      1.00      1.00      3000\n",
      "\n"
     ]
    }
   ],
   "source": [
    "model = grid_knn\n",
    "model_name = 'Tuned KNeighborsClassifier'\n",
    "\n",
    "# Extract best model\n",
    "best_model = model.best_estimator_\n",
    "\n",
    "# Predict the test set labels\n",
    "y_pred = best_model.predict(X_test_new)\n",
    "\n",
    "# score\n",
    "print(\"Score:\", model.score(X_test_new, y_test))\n",
    "\n",
    "# Confusion matrix\n",
    "print(\"\\nConfusion matrix:\\n\", confusion_matrix(y_test, y_pred))\n",
    "\n",
    "# Classification report\n",
    "print(\"\\nClassification report:\\n\", classification_report(y_test, y_pred))"
   ]
  },
  {
   "cell_type": "markdown",
   "metadata": {},
   "source": [
    "We now have an almost perfect classification when considering this tuned model. The key parameter here was the 'weight' parameter, as without changing it the performance would remain very similar. \n",
    "\n",
    "In fact, if we consider the 'distance' parameter instead of an uniform weight (default), the points are now weighted by the inverse of their distance, which means that closer neighbors of a query point will have relatively greater influence.\n",
    "\n",
    "The effect of this variable is so dramatic that it could be nice to test different models but with this weight consideration. And if we had the name of the variables, further interesting considerations could come up."
   ]
  },
  {
   "cell_type": "code",
   "execution_count": null,
   "metadata": {},
   "outputs": [],
   "source": []
  },
  {
   "cell_type": "code",
   "execution_count": null,
   "metadata": {},
   "outputs": [],
   "source": []
  }
 ],
 "metadata": {
  "kernelspec": {
   "display_name": "Python 3",
   "language": "python",
   "name": "python3"
  },
  "language_info": {
   "codemirror_mode": {
    "name": "ipython",
    "version": 3
   },
   "file_extension": ".py",
   "mimetype": "text/x-python",
   "name": "python",
   "nbconvert_exporter": "python",
   "pygments_lexer": "ipython3",
   "version": "3.7.3"
  }
 },
 "nbformat": 4,
 "nbformat_minor": 2
}
